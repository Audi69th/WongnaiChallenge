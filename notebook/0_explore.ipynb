{
 "cells": [
  {
   "cell_type": "code",
   "execution_count": 71,
   "metadata": {
    "collapsed": true
   },
   "outputs": [],
   "source": [
    "# This page contains the training dataset for this competition. The training dataset contains restaurant reviews and ratings from Wongnai. You are provided with text reviews (mostly in Thai) and ratings (there are only 5 classes ranging from 1 to 5 stars).\n",
    "\n",
    "# File descriptions\n",
    "# w_review_train.csv - the training set\n",
    "# test_file.csv - the test set (without ratings, only text reviews are provided)\n",
    "# sample_submission.csv - a sample submission file in the correct format\n",
    "\n",
    "# Data fields (for training set)\n",
    "# first column - text review (input)\n",
    "# second column - rating (label)"
   ]
  },
  {
   "cell_type": "code",
   "execution_count": 126,
   "metadata": {
    "collapsed": true
   },
   "outputs": [],
   "source": [
    "import pandas as pd\n",
    "import numpy as np\n",
    "import matplotlib.pyplot as plt"
   ]
  },
  {
   "cell_type": "markdown",
   "metadata": {},
   "source": [
    "# Explore Training Data"
   ]
  },
  {
   "cell_type": "code",
   "execution_count": 73,
   "metadata": {},
   "outputs": [],
   "source": [
    "tr = pd.read_csv(\"w_review_train.csv\", sep=\";\", names = [\"review\", \"label\"])"
   ]
  },
  {
   "cell_type": "code",
   "execution_count": 74,
   "metadata": {},
   "outputs": [
    {
     "name": "stdout",
     "output_type": "stream",
     "text": [
      "<class 'pandas.core.frame.DataFrame'>\n",
      "RangeIndex: 40000 entries, 0 to 39999\n",
      "Data columns (total 2 columns):\n",
      "review    40000 non-null object\n",
      "label     40000 non-null int64\n",
      "dtypes: int64(1), object(1)\n",
      "memory usage: 625.1+ KB\n"
     ]
    }
   ],
   "source": [
    "tr.info()"
   ]
  },
  {
   "cell_type": "code",
   "execution_count": 75,
   "metadata": {},
   "outputs": [
    {
     "data": {
      "text/html": [
       "<div>\n",
       "<style>\n",
       "    .dataframe thead tr:only-child th {\n",
       "        text-align: right;\n",
       "    }\n",
       "\n",
       "    .dataframe thead th {\n",
       "        text-align: left;\n",
       "    }\n",
       "\n",
       "    .dataframe tbody tr th {\n",
       "        vertical-align: top;\n",
       "    }\n",
       "</style>\n",
       "<table border=\"1\" class=\"dataframe\">\n",
       "  <thead>\n",
       "    <tr style=\"text-align: right;\">\n",
       "      <th></th>\n",
       "      <th>review</th>\n",
       "      <th>label</th>\n",
       "    </tr>\n",
       "  </thead>\n",
       "  <tbody>\n",
       "    <tr>\n",
       "      <th>0</th>\n",
       "      <td>ร้านอาหารใหญ่มากกกกกกก \\nเลี้ยวเข้ามาเจอห้องน้...</td>\n",
       "      <td>3</td>\n",
       "    </tr>\n",
       "    <tr>\n",
       "      <th>1</th>\n",
       "      <td>อาหารที่นี่เป็นอาหารจีนแคะที่หากินยากในบ้านเรา...</td>\n",
       "      <td>4</td>\n",
       "    </tr>\n",
       "    <tr>\n",
       "      <th>2</th>\n",
       "      <td>ปอเปี๊ยะสด ทุกวันนี้รู้สึกว่าหากินยาก (ร้านที่...</td>\n",
       "      <td>3</td>\n",
       "    </tr>\n",
       "    <tr>\n",
       "      <th>3</th>\n",
       "      <td>รัานคัพเค้กในเมืองไทยมีไม่มาก หลายๆคนอาจจะสงสั...</td>\n",
       "      <td>5</td>\n",
       "    </tr>\n",
       "    <tr>\n",
       "      <th>4</th>\n",
       "      <td>อร่อย!!! เดินผ่านDigital gatewayทุกวัน ไม่ยักร...</td>\n",
       "      <td>5</td>\n",
       "    </tr>\n",
       "    <tr>\n",
       "      <th>5</th>\n",
       "      <td>ร้านข้าวต้มกระดูกหมู ปากซอยพัฒนาการ 57 เป็นอีก...</td>\n",
       "      <td>4</td>\n",
       "    </tr>\n",
       "    <tr>\n",
       "      <th>6</th>\n",
       "      <td>วันนี้ได้มีโอกาสไปนั่งซดกาแฟที่ร้านวาวี แถวๆอา...</td>\n",
       "      <td>4</td>\n",
       "    </tr>\n",
       "    <tr>\n",
       "      <th>7</th>\n",
       "      <td>สารภาพว่าไม่เคยคิดจะไปต่อคิวซื้อมากินเองครับ บ...</td>\n",
       "      <td>3</td>\n",
       "    </tr>\n",
       "    <tr>\n",
       "      <th>8</th>\n",
       "      <td>เมื่อวันก่อนไปเดินเล่น แบบชิวๆๆ ที่สยามสแควร์แ...</td>\n",
       "      <td>5</td>\n",
       "    </tr>\n",
       "    <tr>\n",
       "      <th>9</th>\n",
       "      <td>วันก่อนไปเดินสยาม หลังจากห่างหายไป ประมาณ 6 เด...</td>\n",
       "      <td>5</td>\n",
       "    </tr>\n",
       "  </tbody>\n",
       "</table>\n",
       "</div>"
      ],
      "text/plain": [
       "                                              review  label\n",
       "0  ร้านอาหารใหญ่มากกกกกกก \\nเลี้ยวเข้ามาเจอห้องน้...      3\n",
       "1  อาหารที่นี่เป็นอาหารจีนแคะที่หากินยากในบ้านเรา...      4\n",
       "2  ปอเปี๊ยะสด ทุกวันนี้รู้สึกว่าหากินยาก (ร้านที่...      3\n",
       "3  รัานคัพเค้กในเมืองไทยมีไม่มาก หลายๆคนอาจจะสงสั...      5\n",
       "4  อร่อย!!! เดินผ่านDigital gatewayทุกวัน ไม่ยักร...      5\n",
       "5  ร้านข้าวต้มกระดูกหมู ปากซอยพัฒนาการ 57 เป็นอีก...      4\n",
       "6  วันนี้ได้มีโอกาสไปนั่งซดกาแฟที่ร้านวาวี แถวๆอา...      4\n",
       "7  สารภาพว่าไม่เคยคิดจะไปต่อคิวซื้อมากินเองครับ บ...      3\n",
       "8  เมื่อวันก่อนไปเดินเล่น แบบชิวๆๆ ที่สยามสแควร์แ...      5\n",
       "9  วันก่อนไปเดินสยาม หลังจากห่างหายไป ประมาณ 6 เด...      5"
      ]
     },
     "execution_count": 75,
     "metadata": {},
     "output_type": "execute_result"
    }
   ],
   "source": [
    "tr.head(10)"
   ]
  },
  {
   "cell_type": "code",
   "execution_count": 76,
   "metadata": {},
   "outputs": [
    {
     "data": {
      "text/html": [
       "<div>\n",
       "<style>\n",
       "    .dataframe thead tr:only-child th {\n",
       "        text-align: right;\n",
       "    }\n",
       "\n",
       "    .dataframe thead th {\n",
       "        text-align: left;\n",
       "    }\n",
       "\n",
       "    .dataframe tbody tr th {\n",
       "        vertical-align: top;\n",
       "    }\n",
       "</style>\n",
       "<table border=\"1\" class=\"dataframe\">\n",
       "  <thead>\n",
       "    <tr style=\"text-align: right;\">\n",
       "      <th></th>\n",
       "      <th>label</th>\n",
       "    </tr>\n",
       "  </thead>\n",
       "  <tbody>\n",
       "    <tr>\n",
       "      <th>count</th>\n",
       "      <td>40000.000000</td>\n",
       "    </tr>\n",
       "    <tr>\n",
       "      <th>mean</th>\n",
       "      <td>3.742325</td>\n",
       "    </tr>\n",
       "    <tr>\n",
       "      <th>std</th>\n",
       "      <td>0.828098</td>\n",
       "    </tr>\n",
       "    <tr>\n",
       "      <th>min</th>\n",
       "      <td>1.000000</td>\n",
       "    </tr>\n",
       "    <tr>\n",
       "      <th>25%</th>\n",
       "      <td>3.000000</td>\n",
       "    </tr>\n",
       "    <tr>\n",
       "      <th>50%</th>\n",
       "      <td>4.000000</td>\n",
       "    </tr>\n",
       "    <tr>\n",
       "      <th>75%</th>\n",
       "      <td>4.000000</td>\n",
       "    </tr>\n",
       "    <tr>\n",
       "      <th>max</th>\n",
       "      <td>5.000000</td>\n",
       "    </tr>\n",
       "  </tbody>\n",
       "</table>\n",
       "</div>"
      ],
      "text/plain": [
       "              label\n",
       "count  40000.000000\n",
       "mean       3.742325\n",
       "std        0.828098\n",
       "min        1.000000\n",
       "25%        3.000000\n",
       "50%        4.000000\n",
       "75%        4.000000\n",
       "max        5.000000"
      ]
     },
     "execution_count": 76,
     "metadata": {},
     "output_type": "execute_result"
    }
   ],
   "source": [
    "tr.describe()"
   ]
  },
  {
   "cell_type": "code",
   "execution_count": 77,
   "metadata": {},
   "outputs": [
    {
     "data": {
      "text/plain": [
       "4    18770\n",
       "3    12171\n",
       "5     6799\n",
       "2     1845\n",
       "1      415\n",
       "Name: label, dtype: int64"
      ]
     },
     "execution_count": 77,
     "metadata": {},
     "output_type": "execute_result"
    }
   ],
   "source": [
    "tr[\"label\"].value_counts()"
   ]
  },
  {
   "cell_type": "code",
   "execution_count": 143,
   "metadata": {},
   "outputs": [
    {
     "data": {
      "image/png": "[encoded data removed]",
      "text/plain": [
       "<matplotlib.figure.Figure at 0x7fb3c0f76b38>"
      ]
     },
     "metadata": {},
     "output_type": "display_data"
    }
   ],
   "source": [
    "tr[\"review\"].str.len()[tr[\"review\"].str.len()<2500].value_counts().sort_index().plot.area()\n",
    "plt.show()"
   ]
  },
  {
   "cell_type": "code",
   "execution_count": 111,
   "metadata": {},
   "outputs": [
    {
     "data": {
      "text/plain": [
       "'ร้านอาหารเล็ก ๆ แต่ของคุณภาพดี อยู่ใกล้ปากเกร็ด มีเมนูหลากหลาย อาทิ ข้าวผัดปู (เนื้อปูเยอะอย่างไม่น่าเชื่อ), เชิงปลากรายทอด, ทอดมันปลากราย, ปลาเนื้ออ่อนทอดกระเทียม, กุ้งแม่น้ำเผา และ ก้ามกุ้งผัดคะน้า '"
      ]
     },
     "execution_count": 111,
     "metadata": {},
     "output_type": "execute_result"
    }
   ],
   "source": [
    "tr[tr[\"review\"].str.len()==tr[\"review\"].str.len().min()].iloc[0][\"review\"]"
   ]
  },
  {
   "cell_type": "code",
   "execution_count": 100,
   "metadata": {},
   "outputs": [
    {
     "data": {
      "text/plain": [
       "'สำหรับวันนี้ก็จะพาไปกินอาหารอาเซียนกันที่รร.เจ้าพระยาปาร์ค รัชดาภิเษกกันบ้างนะคะ โดยการไปครั้งนี้ก็เป็นการชวนจากคุณอ้นเจ้าเดิมเช่นเคยค่ะ (งานชุกจริงๆ พ่อคุณ) สำหรับการไปวันนั้นเราเอารถส่วนตัวไปค่ะ รถติดมากถึงมากที่สุด กว่าจะไปถึงก็หกโมงครึ่ง (ตามนัดคือหกโมง) ค่ะ พิกัดก็ถ้ามาจากทางพระรามเก้า ก็เลยแยกห้วยขวางไปอีกนะคะ จะอยู่ทางซ้ายมือค่ะ (ใช้กูเกิ้ลแมพนำทางเช่นเคยฮ่ะอิชั้น)\\nที่จอดรถจะมีทั้งลานจอดที่อยู่ระหว่างตัวตึกโรงแรมกับตัวอาคารธาราเทพ ที่อยู่ตรงกันข้ามกับตัวตึกห้องพักเลยค่ะ จะเป็นตัวตึกที่มีห้องจัดเลี้ยงและห้องอาหารต่างๆ ด้วยน่ะนะคะ\\n\\nหันหลังให้ตึกรร. หันหน้าเข้าอาคารธาราเทพ ห้องอัลธาราอยู่ทางซ้ายมือ ส่วนห้องอาหารธารทิพย์สำหรับบุฟเฟท์ข้าวต้ม จะอยู่ทางขวามือค่ะ (เราเคยกินเมื่อก่อนหน้านี้น้านนานมาแล้ว น่าจะสิบกว่าปีเกือบยี่สิบปีได้ เหมือนไม่ใช่ตรงนี้นะคะ)\\n\\nลักษณะของห้องอาหารจะเป็นกระจกล้อมทางด้านหน้าตามภาพนะคะ ทำให้แม้จำนวนโต๊ะไม่เยอะ พื้นที่ไม่มาก แต่ก็ไม่ได้รู้สึกอึดอัดแต่อย่างใดฮับ และจะเห็นสัญลักษณ์ฮาลาล ซึ่งแสดงว่าห้องอาหารนี้เป็นห้องอาหารฮาลาลสำหรับผู้ที่นับถือศาสนาอิสลามนะคะ\\n\\nเข้าไปปุ๊บ ทางขวามือจะมีรางวัลและโล่ต่างๆ ที่ห้องอาหารนี้เคยได้รับค่ะ จะอยู่ข้างๆ เคาน์เตอร์ของห้องอาหารนี้เลยนะคะ\\n\\nบรรยากาศภายในห้องอาหารค่ะ ค่อนข้างออกแนวอาหรับๆ หน่อยเนาะ แล้วก็มีห้องละหมาดด้วยนะคะ พนักงานท่านหนึ่ง (ไม่ได้ขอถ่ายรูปมาค่ะ ขออภัย) ก็เป็นชาวมุสลิมด้วยค่ะ\\n\\nซึ่งอย่างที่ได้บอกว่า ห้องอาหารนี้ได้รับตราสัญลักษณ์ฮาลาลเป็นการรับรองว่า ชาวมุสลิมสามารถรับประทานอาหารได้อย่างสบายใจนะคะ ซึ่งจากการพูดคุยกับเชฟ คือ เชฟบัว - ปัทมา โชคลาภผล ซึ่งเป็นเชฟใหญ่ของห้องอาหารแห่งนี้ ก็บอกว่ารับประกันได้ว่าอาหารที่นี่ทำอย่างถูกต้องตามหลักของศาสนาอิสลามแน่นอนค่ะ\\n\\nซึ่งเท่าที่เชฟเล่าก็ไม่ว่าจะเป็นวิธีการล้างผัก วัตถุดิบที่เป็นเนื้อสัตว์อย่างไก่หรืออื่นๆ ก็ได้รับการเชือดที่ถูกวิธี เนื้อสัตว์ต้องไม่มีเลือก มีวิธีที่ทำให้เลือดตก ฯลฯ ค่ะ เราก็เลยไปค้นหาข้อมูลอาหารฮาลาลมา และได้มาจากเว็บวิกิฯ ดังนี้นะคะ\\n\\nอาหารฮาลาล คือ อาหารที่ไม่มีสิ่งต้องห้ามเจือปน โดยเฉพาะอย่างยิ่งเนื้อสัตว์นั้นจะต้องเป็นเนื้อฮาลาล และไม่เจือปนสิ่งฮะรอม (Haram) หรือสิ่งต้องห้ามบริโภค เช่น เหล้า หรือไขมันหมู เป็นต้น เนื้อสัตว์ หรือ ผลิตภัณฑ์จากสัตว์ที่ฮาลาล จะเกิดขึ้นก็ต่อเมื่อสัตว์นั้นผ่านการเชือดที่ถูกต้องตามแนวทางอิสลามดังต่อไปนี้\\n\\n1. ผู้เชือดเป็นมุสลิมที่เข้าใจ และรู้วิธีการเชือดแบบอิสลามอย่างแท้จริง\\n\\n2. สัตว์ที่จะนำมาเชือดจะต้องไม่เป็นสัตว์ต้องห้าม เช่น สุกร สัตว์ที่ล่าหรือบริโภคสัตว์อื่นเป็นอาหาร เช่น เสือ สุนัข สัตว์ปีกที่ล่าหรือบริโภคสัตว์อื่นเป็นอาหาร เช่น เหยี่ยว นกอินทรี สัตว์เลื้อยคลาน เช่น งู\\n\\n3. สัตว์ยังมีชีวิตขณะทำการเชือด\\n\\n4. การเชือดต้องเริ่มต้น ด้วยการเปล่งคำว่า \"บิสมิลลาฮฺ\" อันมีความหมายว่า ด้วยพระนามของอัลลอฮฺ\\n\\n5. การเชือดโดยใช้มีดคมตัดเส้นเลือดใหญ่ หลอดลม หลอดอาหาร ที่ลำคอให้ขาดจากกัน เพื่อให้สัตว์ตายโดยไม่ทรมาน\\n\\n6. สัตว์ต้องตายสนิทก่อนที่จะแล่เนื้อ หรือดำเนินการใด ๆ ต่อไป\\n\\nชนิดของสัตว์ที่มุสลิมนำมาบริโภคได้ ได้แก่ สัตว์บก เช่น แพะ แกะ โค กระบือ กวาง ฯลฯ และสัตว์น้ำจำพวกปลา ปู กุ้ง หอย และสัตว์ทะเลทั้งหมด ส่วนสัตว์ที่ไม่สามารถบริโภค ได้แก่ สุกร สุนัข แลน หมูป่า งู ลิง สัตว์มีกรงเล็บ สัตว์มีพิษหรือสัตว์นำโรค สัตว์ที่ไม่อนุญาตฆ่าตามหลักศาสนาเช่น มด ผึ้ง และนกหัวขวาน สัตว์น่ารังเกียจ สัตว์ที่ไม่เชือดตามหลักศาสนา เลือด รวมทั้งอาหารและเครื่องดื่มที่มีส่วนผสมแอลกอฮอล์ และสัตว์ลักษณะเดียวกับลา\\n\\nพืชและเครื่องดื่มทุกชนิดที่ไม่มีส่วนผสมของแอลกอฮอล์สามารถบริโภคได้เช่นกัน แต่ถ้าสิ่งดังกล่าวปนเปื้อนด้วยสิ่งสกปรก (นะญิส) ซึ่งหมายถึง สิ่งสกปรกตามหลักศาสนาอิสลาม คือสุนัข สุกร สุรา ซากสัตว์ (สัตว์ไม่ได้เชือดตามหลักการอิสลามยกเว้นปลาและตั๊กแตน) เลือด น้ำเหลือง น้ำหนอง สิ่งขับถ่าย นมลา นมแมว นมสุกรจะกลายเป็นอาหารต้องห้ามทันที\\n\\nสำหรับวันนี้เราก็จะได้มาชิมอาหารอาเซียนกันนะคะ โดยวันนี้จะมีทั้งหมด 10 จานจาก 10 ชาติด้วยกันค่ะ ซึ่งก็ได้แก่\\n\\nผัดไทยทะเลกุ้งแม่น้ำ (ไทย) / ปอเปี๊ยะสด (เวียดนาม) / แกงหน่อไม้ (ลาว) / ยำเขมร (กัมพูชา) / มัสมั่นแพะ (มาเลเซีย) / ข้าวผัด (อินโดนีเซีย) / ซุปหางวัว (บรูไน) / อโดโบ้ซี่โครงแกะ (ฟิลิปปินส์) / ฮังแลมาล์ล (พม่า) / หลักซา (สิงคโปร์)\\n\\nโดยสิบเมนูที่ว่านี้เป็นเมนูที่ทำเพิ่มเติมมาจากเมนูหลักๆ ที่มีอยู่แล้วของห้องอาหารนี้นะคะ ราคาก็ตามภาพเลยค่ะ\\n\\nเอาหละค่ะมาไล่กันทีละเมนูเลยแล้วกันเนาะ กับเมนูแรกค่ะ แกงหน่อไม้ (ลาว) 150 บาท\\n\\nขอบอกว่ามันแซ่บนัวมากค่ะ ตอนแรกนึกว่าแกงเลียง (เห็นผักเยอะ แหะๆ) ปลาร้าที่ใส่มาก็หอมดีนะคะ ไม่เหม็น (ปกติเราไม่กินปลาร้าค่ะ อย่างส้มตำก็ไม่ปลาร้า ยกเว้นถ้าไม่เหม็น หรือไม่ก็พวกปลาร้าสับ แจ่วบองอะไรแบบนี้น่ะค่ะ) รสชาติอร่อยแบบพอดิบพอดีมากๆ ค่ะ เราชอบแหละ อร่อยๆ\\n\\nและขอเอาความรู้เกี่ยวกับอาหารลาว โดยนำมาจากวิกิฯ เช่นเคย มาแปะให้อ่านเป็นความรู้รอบตัวเพิ่มเติมกันนะฮับ\\n\\nอาหารลาวมีความแตกต่างจากภูมิภาคอื่นๆ ในเอเซียตะวันออกเฉียงใต้อาหารลาวให้อิทธิพลแก่อาหารในภาคตะวันออกเฉียงเหนือของไทยเป็นอย่างมาก และอิทธิพลของอาหารลาวก็แผ่ไปถึงประเทศกัมพูชา และภาคเหนือของไทย ( ล้านนา ) อาหารหลักของลาวได้แก่ข้าวเหนียว ซึ่งจะรับประทานด้วยมือในความเป็นจริงชาวลาวจะรับประทานข้าวเหนียวมากกว่ากลุ่มใด ๆ ในโลก ข้าวเหนียวถือว่าเป็นสิ่งสำคัญที่หมายถึงการเป็น ชาวลาว ชาวลาวหลายคนมักเรียกตนเองว่าลูกข้าวเหนียว ซึงแปลว่า เด็ก หรือ ลูกหลานของข้าวเหนียว\\n\\nข่า,ตะไคร้ และ ปลาแดก(ปลาร้าในชื่อไทย) เป็นส่วนประกอบที่สำคัญในอาหารลาว อาหารลาวที่มีชื่อเสียงที่สุดคือ ลาบ ( ลาว : ລາບ ; อังกฤษ ： laap ) โดยนำเนื้อสัตว์ที่ยังดิบผสมคลุกเข้ากับเครื่องเทศ และอาหารหลักของลาวอีกอย่างคือ ตำหมากหุ่ง ( ลาว : ຕໍາໝາກຫຸ່ງ ；อังกฤษ ：Tam mak Hoong ) โดยนำมะละกอ ( ลาว： ໝາກຫຸ່ງ ；หมากหุ่ง ) มาตำลงพร้อมพริก กระเทียม มะเขือเทศ มะนาว และอื่น ๆ ตำหมากหุ่ง หรือชื่อเรียกที่เป็นที่รู้จักกันมากคือ ส้มตำ\\n\\nอาหารลาวจะมีความแตกต่างกันไปตามภูมิภาคต่าง ๆ และยังคงมีอิทธิพลของอาหารฝรั่งเศสซึ่งเคยเป็นเจ้าอาณานิคมหลงเหลืออยู่และยังเป็นที่นิยมในลาว โดยเฉพาะข้าวจี่ปาเต้ หรือข้าวจี่ลาวที่นำขนมปังฝรั่งเศสมายัดไส้ต่างๆ เช่น หมูยอ หมูหยอง แจ่วบอง ผักสด ซึ่งก็แตกต่างกันไปตามภูมิภาค ข้าวจี่ปาเต้นี้ยังเป็นที่นิยมในประเทศแถบอินโดจีนอย่างเวียดนามและกัมพูชาอีกด้วย\\n\\nเมนูต่อไปค่ะกับข้าวผัดอินโดนีเซีย (Classic Nasi Gorang) 250 บาทค่ะ\\n\\nสำหรับตัวนี้นะคะ ผัดมาได้หอมเครื่องเทศดีค่ะ ผัดมาได้ค่อนข้างร่วนดีตามสไตล์ที่ข้าวผัดควรเป็น และมีรสชาติที่สม่ำเสมอนะคะ โอเคค่ะ (เราว่าเชฟปรับรสชาติให้ถูกปากคนไทยด้วยค่ะ เพราะเคยกินแบบออริจินัลที่บาหลีมาแล้วนี่..กินไม่ได้รสชาติแบบนี้หรอกค่ะ เพราะฉะนั้นไว้ใจได้ค่ะ ทุกเมนูเท่าที่ชิมมีการปรับให้รสชาติถูกปากคนไทย แต่ยังได้อารมณ์ของการกินอาหารชาติอื่นๆ อยู่ค่ะ)\\n\\nและนำข้อมูลมาจากวิกิฯ ในส่วนของอาหารอินโดนีเซียมาฝากกันเพิ่มค่ะ ต้นฉบับยาวกว่านี้ ถ้าต้องการอ่านแบบเต็มๆ ก็คลิกที่ลิงก์นี้เลยนะคะ\\n\\nอาหารอินโดนีเซีย (อินโดนีเซีย: Masakan Indonesia) เป็นอาหารทีมีความหลากหลายทางด้านรูปลักษณ์และสีสันเพราะประกอบด้วยประชากรจากเกาะต่าง ๆ ที่มีคนอยู่อาศัยประมาณ 6,000 เกาะจากทั้งหมด 18,000 เกาะ มีอาหารเฉพาะถิ่นจำนวนมาก และได้รับอิทธิพลจากต่างประเทศ ทำให้อาหารอินโดนีเซียมีความหลากหลายตามพื้นที่และมีอิทธิพลจากต่างชาติที่หลากหลาย อินโดนีเซียมีความเกี่ยวข้องกับเส้นทางการค้ามาแต่อดีต มีเทคนิคและส่วนผสมที่เป็นเอกลักษณ์ และได้รับอิทธิพลจากอินเดีย ตะวันออกกลาง จีน และท้ายที่สุดคือยุโรป พ่อค้าชาวสเปนและโปรตุเกสได้นำผลิตภัณฑ์จากโลกใหม่เข้ามาก่อนที่ชาวดัตช์จะเข้ามายึดครองหมู่เกาะเกือบทั้งหมดเป็นอาณานิคม หมู่เกาะโมลุกกะหรือมาลูกูของอินโดนีเซียได้รับสมญาว่าหมู่เกาะเครื่องเทศ ซึ่งเป็นแหล่งของเครื่องเทศ เช่น กานพลู จันทน์เทศ วิธีการปรุงอาหารหลัก ๆ ของอินโดนีเซียได้แก่ ผัด ย่าง ทอด ต้ม และนึ่ง อาหารอินโดนีเซียที่เป็นที่นิยมได้แก่ นาซีโกเร็งหรือข้าวผัด กาโดกาโด สะเต๊ะและโซโต ซึ่งเป็นอาหารที่มีลักษณะเฉพาะและถือเป็นอาหารประจำชาติ\\n\\nอาหารสุมาตราได้รับอิทธิพลจากอาหารตะวันออกกลางและอาหารอินเดีย โดยเฉพาะแกงเนื้อและผักเช่นกูไลและการี ในขณะที่อาหารชวามีลักษณะเป็นท้องถิ่นมากกว่า อาหารของอินโดนีเซียตะวันออกคล้ายกับอาหารพอลินีเซียและเมลานีเซีย มีบางส่วนที่ได้รับอิทธิพลจากอาหารจีน เช่น บักหมี่หรือเส้นหมี่ บะก์โซ (ลูกชิ้นปลาหรือเนื้อ) และลุมเปียหรือเปาะเปี๊ยะ\\n\\nอาหารหลายชนิดที่มีจุดกำเนิดในอินโดนีเซียได้กลายเป็นอาหารที่แพร่หลายไปทั่วเอเชียตะวันออกเฉียงใต้ อาหารอินโดนีเซีย เช่น สะเต๊ะ เรินดังเนื้อ ซัมบัล เป็นที่นิยมในมาเลเซียและสิงคโปร์ อาหารที่ทำจากถั่วเหลือง เช่น เต้าหู้ เต็มเป ก็เป็นที่นิยมด้วย เต็มเปนั้นถือว่ามีจุดกำเนิดในชวา อาหารหมักดองอีกชนิดหนึ่งคืออนจมซึ่งคล้ายเต็มเปแต่ใช้ส่วนผสมอื่นที่ไม่ใช่ถั่วเหลือง และหมักด้วยราที่ต่างออกไป และเป็นที่นิยมในชวาตะวันตก\\n\\nเมนูต่อไปกันเลยนะคะกับ ปอเปี๊ยะสด (เวียดนาม) 150 บาทค่ะ\\n\\nสำหรับเมนูนี้นะคะ ทำมาได้ดีอีกแล้วค่ะ น้ำจิ้มรสชาติจัดจ้านกว่าต้นฉบับ (เยอะ) ค่ะ ทำให้รสชาติออกมาถูกปากค่ะ\\n\\nนอกจากนั้นตัวเครื่องข้างในที่ห่อก็ทำมาได้สมดุลดีนะคะ ไม่มีรสชาติของวัตถุดิบอันไหนที่โดดออกมาค่ะ ใส่วัตถุดิบแต่ละอย่างออกมาได้พอดี ทำให้ค่อนข้างอร่อยถูกปากเลยค่ะ\\n\\nข้อมูลอาหารเวียดนามจากวิกิฯ เช่นเดิมค่ะ\\n\\nอาหารเวียดนามเป็นอาหารประจำชาติของชาวเวียดนาม ซึ่งเป็นอาหารที่มีลักษณะโดดเด่นเป็นของตัวเอง ชาวเวียดนามกินข้าวเป็นอาหารหลักเช่นเดียวกับชาติอื่นๆในเอเชียตะวันออกเฉียงใต้และใช้เครื่องปรุงรสที่เป็นของหมักดองเช่นเดียวกัน เนื่องจากปูมหลังทางประวัติศาสตร์ที่เคยถูกจีนและฝรั่งเศสปกครอง จึงมีอิทธิพลของทั้งสองชาติปรากฏอยู่บ้าง นอกจากนั้นเนื่องจากสภาพภูมิศาสตร์ที่ทอดยาวตามแนวชายฝั่ง ทำให้อาหารเวียดนามแต่ละภูมิภาคมีความแตกต่างกัน อาหารเวียดนามที่คนไทยรู้จักดีและเป็นเอกลักษณ์คือแหนมเนืองและขนมเบื้องญวน\\n\\nอาหารเวียดนามเป็นอาหารที่กินผักสดหลากหลายชนิดในแทบทุกเมนู และมีน้ำจิ้มที่หลากหลาย เครื่องปรุงรสส่วนใหญ่เป็นแบบเอเชียตะวันออกเฉียงใต้มากกว่าจีน เช่น เครื่องปรุงรสเปรี้ยวใช้มะขาม มะนาว ไม่นิยมน้ำส้มสายชู เครื่องปรุงรสเค็ม ส่วนใหญ่เป็น น้ำปลา น้ำกะปิ รองลงไปเป็นกะปิ ปลาร้า กุ้งจ่อม ใช้ซีอิ๊วแบบจีนน้อยมาก\\n\\nอาหารเวียดนามภาคเหนือ มีอิทธิพลของอาหารจีนปรากฏชัดกว่าภูมิภาคอื่น มีแกงจืดแบบจีน และการผัดแบบจีนแพร่หลายมากกว่าภาคอื่นๆ\\n\\nอาหารเวียดนามภาคกลาง ศูนย์กลางอยู่ที่เว้ มีอิทธิพลของอาหารในวังปรากฏชัดเจนมาก และมีรสเผ็ดมากกว่าอาหารภาคอื่น\\n\\nอาหารเวียดนามภาคใต้ มีอิทธิพลของอาหารอินเดียและอาหารกัมพูชาปรากฏมากกว่า ใช้ผัก ผลไม้ และเนื้อสัตว์ที่หลากหลายกว่า\\n\\nต่อไปเป็นเมนูก๋วยเตี๋ยวลักซา (สิงคโปร์) 350 บาทค่ะ\\n\\nสำหรับเมนูนี้นะคะ เครื่องทะเลมาเยอะจัดเต็มมาก รสชาติเข้มข้นยิ่งกว่าต้นฉบับอีกค่ะ ใครที่อยากกินก๋วยเตี๋ยวแนวแกงๆ หน่อย คล้ายๆ ข้าวซอย แต่คนละแบบ ลองสั่งเมนูนี้มาหม่ำได้เลยนะคะ\\n\\nข้อมูลอาหารสิงคโปร์จากวิกิพีเดียมีดังนี้นะฮับ\\n\\nอาหารสิงคโปร์ เป็นตัวบ่งชี้ความหลากหลายทางชาติพันธุ์ในสิงคโปร์ ซึ่งเดิมเป็นส่วนหนึ่งของมาเลเซีย และได้มีปฏิสัมพันธ์ทางวัฒนธรรมมานานนับศตวรรษ อาหารได้รับอิทธิพลจากชาวพื้นเมืองมลายู ชาวจีน อินโดนีเซีย เปอรานากัน วัฒนธรรมตะวันตกซึ่งมาจากอังกฤษ และกลุ่มที่ได้รับอิทธิพลโปรตุเกสซึ่งเรียกชาวคริสตัง อิทธิพลจากพื้นที่อื่นๆ เช่น ศรีลังกา ไทย ฟิลิปปินส์ และตะวันออกกลาง พบในอาหารพื้นเมืองเช่นกัน\\n\\nในสิงคโปร์ อาหารถือเป็นสิ่งสำคัญ ในการกำหนดเอกลักษณ์ของชาติและความเป็นหนึ่งเดียว ซึ่งในสิงคโปร์ การพบปะและรับประทานอาหารระหว่างวัฒนธรรมเป็นเรื่องปกติ อาหารสิงคโปร์ถูกส่งเสริมเพื่อดึงดูดนักท่องเที่ยว รัฐบาลสิงคโปร์ได้จัดเทศกาลอาหารสิงคโปร์ในเดือนกรกฎาคมเพื่อส่งเสริมอาหารสิงคโปร์\\n\\nสิงคโปร์เป็นประเทศเล็กที่มีประชากรหนาแน่นมาก ที่ดินเป็นทรัพยากรสำคัญที่จำเป็นสำหรับอุตสาหกรรมและที่อยู่อาศัย ผลิตภัณฑ์และเครื่องปรุงส่วนใหญ่นำเข้ามา แม้ว่าจะมีกลุ่มเกษตรกรขนาดเล็กที่ปลูกผัก ผลไม้ หรือสัตว์ปีกและปลา เนื่องจากสิงคโปร์ตั้งอยู่บนเส้นทางการค้าที่สำคัญ จึงสามารถพบผลิตภัณฑ์และเครื่องปรุงทั่วโลกได้ที่นี่\\n\\nต่อไปขอคั่นด้วยอาหารไทยกันบ้างค่ะ กับเมนูที่ดังไปทั่วโลกอย่างผัดไทยทะเลกุ้งแม่น้ำนะคะ ราคา 280 บาทค่ะ\\n\\nผัดไทยผัดมาได้รสชาติสม่ำเสมอทุกเส้น และมีกลิ่นหอมค่ะ รสชาติดีนะคะ ถ้าใครไม่กินรสจัดมาก เราว่าไม่ต้องเติมก็ได้ค่ะ\\n\\nแต่เนื่องด้วยข้าพเจ้ากินรสจัด ก็เลยเติมพริกกับน้ำตาลอีกนิด อร่อยมากๆ ค่ะ\\n\\nเมนูต่อไปค่ะกับฮังแลมาล์ล (เมียนมาร์) ราคา 300 บาทค่ะ\\n\\nสำหรับเมนูนี้นะคะ จะคล้ายๆ แกงฮังเลของภาคเหนือเราแหละค่ะ (เราน่าจะได้รับอิทธิพลจากเค้าแหละนะฮับ)\\n\\nเมนูนี้เป็นเนื้อวัวนะคะ เนื้อหนึบแน่นมาก หอมเครื่องแกงและเข้าเนื้อดีมากค่ะ ตัวเม็ดๆ หัวๆ นั่นคือ กระเทียมโทนดองน้ำผึ้งนะคะ แปลกดีค่ะ ไม่เคยเห็นมาก่อน ไม่แน่ใจว่าต้นฉบับมีหรือเป็นการประยุกต์ของเชฟนะคะ แต่เข้ากันอยู่ค่ะ ส่งรสกันดีค่ะ\\n\\nลักษณะของอาหารเมียนมาร์นะคะ แหล่งเดิมค่ะ\\n\\nอาหารพม่า (พม่า: မြန်မာ့ အစားအစာ) เป็นอาหารของทั้งชาวพม่าและชนกลุ่มน้อยในประเทศพม่า มีส่วนประกอบเป็นปลาหลายชนิด เช่น น้ำปลาและงะปิหรือกะปิ อาหารพม่าได้รับอิทธิพลจากอาหารจีน อาหารอินเดียและอาหารไทย โมนฮีนกาเป็นอาหารประจำชาติของพม่า อาหารทะเลเป็นที่นิยมตามแนวชายฝั่งเช่น ซิตตเว เจาะพยู่ เมาะลำเลิง มะริด และทวาย ส่วนเนื้อสัตว์และสัตว์ปีกเป็นอาหารสำคัญทางตอนบนของประเทศ เช่น มัณฑะเลย์ ปลาและกุ้งน้ำจืดเป็นที่นิยมทั้งในรูปรับประทานสดหรือทำเค็ม ตากแห้ง หมักให้เปรี้ยว หรือบดเป็นกะปิ\\n\\nอาหารพม่ามีหลายรูปแบบเช่น ยำหรือสลัด อาหารจำพวกแป้งเป็นข้าว และเส้นหมี่จากข้าว ขนมจีน เครื่องปรุงนอกจากนั้นมีมันฝรั่ง ขิง มะเขือเทศ ใบมะกรูด ถั่วฝักยาว ใบเมี่ยงหรือละแพะ และงะปิ ยำมักรับประทานเป็นอาหารจานด่วนในพม่า\\n\\nในตำรายาแบบดั้งเดิมของพม่า แบ่งอาหารออกเป็น 2 แบบคือแบบร้อนและแบบเย็น คล้ายกับการจัดจำแนกอาหารแบบจีน ตัวอย่างอาหารร้อนเช่น ไก่ มะระ ทุเรียน มะม่วง ช็อกโกแลต ไอศกรีม ตัวอย่างอาหารเย็น เช่น หมู มะเขือ นม แตงกวา ผักกาดหัว\\n\\nต่อไปกับเมนู มัสมั่นแพะ (มาเลเซีย) ค่ะ ราคา 250 บาทค่ะ\\n\\nสำหรับเมนูนี้นะคะรสชาติจะออกหวานหน่อยค่ะ กลิ่นเครื่องเทศ มีทั้งแบบปล่อยฮุคมาเลยตั้งแต่ตักเข้าปาก กับแบบที่ค่อยๆ มาเป็นกลิ่นแฝงค่ะ ส่วนกลิ่นแพะก็มีอยู่นะคะ แต่ไม่แรงมากค่ะ แต่ถ้าใครไม่ชอบกลิ่นแพะอาจจะต้องเลี่ยงเมนูนี้นะฮับ แต่เราชอบก็เลยหม่ำได้ค่ะ\\n\\nเมนูนี้เค้าให้ครัวซองมาด้วยนะคะ ซึ่งจะกินคู่กัน หรือจะเปลี่ยนไปกินกับข้าวก็โอเคค่ะ อร่อยคนละแบบนะคะ\\n\\nลักษณะของอาหารมาเลเซีย จากวิกิฯ นะคะ (ถ้าต้องการรายละเอียดเพิ่มอ่านจากวิกิฯ นะคะ)\\n\\nอาหารมาเลเซีย เป็นอาหารที่ได้รับอิทธิพลจากหลายวัฒนธรรมทั่วโลก อิทธิพลหลักมาจากชาวมาเลย์ ชาวจีน และชาวอินเดีย นอกจากนั้นยังได้รับอิทธิพลจากชาวเปอรานากันและยูเรเซีย ชาวโอรังอัสลี และชนเผ่าต่างๆในซาราวักและซาบาห์ อาหารมาเลเซียจึงมีความหลากหลายมากโดยรวมทั้งการปรุงอาหารของมาเลย์ จีน อินเดีย อินโดนีเซียโดยเฉพาะในเกาะบอร์เนียว และได้รับอิทธิพลในส่วนน้อยมาจากไทย โปรตุเกส อังกฤษ อาหรับ ทำให้อาหารมาเลเซียมีความหลากหลายทั้งรสชาติ วิธีการ และมีความซับซ้อนมาก\\n\\nข้าวเป็นอาหารหลักที่สำคัญในมาเลเซีย อาหารจากข้าวที่เป็นที่นิยมมากที่สุดคือ นาซิเลอมัก ซึ่งเป็นข้าวที่หุงด้วยกะทิ กินกับปลา ถั่วลิสง แตงกวาหั่น ไข่ต้มและซัมบัล นาซิ เลอมักรับประทานกับอาหารได้หลายชนิดรวมทั้งเรินดัง นาซิ เลอมักถือเป็นอาหารประจำชาติของมาเลเซีย อาหารมาเลเซียที่ได้รับอิทธิพลจากอาหารอินเดียจะใช้ซัมบัลที่มีรสค่อนข้างเผ็ด ส่วนซัมบัลที่ใส่ในนาซิ เลอมักจะมีรสหวานเล็กน้อย นาซิ เลอมักนั้นมักจะสับสนกับนาซิดาแฆที่เป็นที่นิยมทางชายฝั่งตะวันออกของมาเลเซียในบริเวณกลันตันและตรังกานู\\n\\nอาหารมาเลเซียมีความคล้ายคลึงกับอาหารอินโดนีเซียโดยเฉพาะในบริเวณเกาะสุมาตรา อาหารมาเลเซียได้รับอิทธิพลจากอาหารจีน อาหารอินเดีย อาหารไทย และประเทศอื่นๆ อาหารมาเลเซียหลายชนิดใส่เริมปะห์ ที่เป็นส่วนผสมของเครื่องเทศคล้ายกับผงมะสะหล่าของอินเดีย\\n\\nต่อไปกับเมนูอโดโบ้ซี่โครงแกะ (ฟิลิปปินส์) ราคา 280 บาทค่ะ\\n\\nสำหรับเมนูนี้นะคะ แม้ว่าจะกินตอนที่เย็นแล้ว แต่เนื้อแกะยังนุ่มอยู่เลยค่ะ และยังมีกลิ่นแกะที่ไม่ได้สาบมากเกินไปนะคะ (แต่ถ้าคนไม่ชอบก็น่าจะกินไม่ได้หละ) ทำแกะมาได้ค่อนข้างดีค่ะ เป็นอีกเมนูที่ใครหลายคนในวันนั้นชอบนะฮับ\\n\\nจะเห็นว่าแกะทำมาได้ค่อนข้างพอดีนะคะ ไม่สุกมากเกินไปค่ะ แต่กลับไม่เป็นลักษณะเลือดโชกนะคะ โอค่ะ\\n\\nอาหารฟิลิปปินส์จากวิกิฯ นะคะ\\n\\nอาหารฟิลิปปินส์ ประกอบด้วยอาหาร วิธีการเตรียมและประเพณีการรับประทานอาหารที่เป็นเอกลักษณ์ของประเทศฟิลิปปินส์ รูปแบบของการทำอาหารและอาหารที่เกี่ยวข้องมีการพัฒนาตลอดระยะหลายศตวรรษจากวัฒนธรรมดั้งเดิมของกลุ่มชนที่พูดภาษาในตระกูลออสโตรนีเซียนผสมกับอาหารสเปนและโปรตุเกส จีน อเมริกัน และอาหารอื่น ๆ ในเอเชียที่ปรับให้เข้ากับส่วนผสมพื้นเมืองและความนิยมในท้องถิ่น\\n\\nอาหารมีตั้งแต่ง่ายมากเช่นปลาทอดเค็มและข้าวและอาหารที่มีความประณีต อาหารยอดนิยมฟิลิปปินส์ยอดนิยมได้แก่ เลชอน (lechón หมูย่างทั้งตัว), ลองกานิซา (longganisa ไส้กรอกฟิลิปปินส์), ตาปา (tapa ทำจากเนื้อวัว), ตอร์ตา (torta ไข่เจียว), อาโดโบ (adobo ไก่และ/หรือหมูต้มในกระเทียม น้ำส้มสายชู น้ำมัน และซอสถั่วเหลืองเคี่ยวจนแห้ง), กัลเดเรตา (kaldereta สตูเนื้อในซอสมะเขือเทศ), เมชาโด (mechado เนื้อปรุงกับถั่วเหลืองและซอสมะเขือเทศ), โปเชโร (pochero กล้วยและเนื้อในซอสมะเขือเทศ), อาฟริตาดา (afritada ไก่หรือหมูในซอสมะเขือเทศกับผัก), การี-กาเร (kari-kare หางวัว และผักสุกในซอสถั่วลิสง), ปาตากรอบ (ขาหมูทอด), ฮาโมนาโด (hamonado หมูหวานในซอสสับปะรด), อาหารทะเลในน้ำซุปรสเปรี้ยว, ปันสิต (pancit ก๋วยเตี๋ยว) และลุมเปีย (lumpia ปอเปี๊ยะสดหรือทอด)\\n\\nอาหารฟิลิปปินส์มีเอกลักษณ์เนื่องจากมีการผสมผสานของอาหารที่มีรสเปรี้ยว รสหวาน รสเค็ม โดยการจับคู่อาหารที่มีรสต่างกันมารับประทานพร้อมกัน เช่น จานหนึ่งรสหวาน อีกจานหนึ่งรสเค็ม ตัวอย่างเช่น ชัมโปราโด (โจ๊กรสหวาน) คู่กับตูโย (ปลาเค็มตากแห้ง) ดีนูกูอัน (สตูว์เลือดหมูรสเปรี้ยว) กินกับปูโต (ขนมทำจากข้าวนึ่ง รสหวาน) ผลไม้ดิบรสเปรี้ยวจิ้มกับเกลือหรือกะปิ เป็นต้น น้ำส้มสายชูเป็นเครื่องปรุงที่พบได้ทั่วไป อะโดโบเป็นอาหารชนิดหนึ่งที่เป็นทิ่นิยมเพราะเตรียมได้ง่าย และยังเก็บไว้ได้นาน ตีนาปาเป็นปลารมควัน ส่วน ตูโย ดาอิง และดางิตเป็นปลาตากแห้งที่เก็บได้นาน ชาวฟิลิปปินส์รับประทานอาหารสามมื้อคือเช้า กลางวัน และเย็น และของว่างในช่วงบ่าย มื้อเช้าและมื้อกลางวันจะเป็นมื้อสำคัญ ใช้ส้อมและมีดในการรับประทานอาหารเพราะได้รับอิทธิพลจากตะวันตก แต่อาหารบางชนิดก็นิยมรับประทานด้วยมือ เช่น อีนีฮอว์หรือปรีโต\\n\\nต่อไปกับอาหารกัมพูชาบ้างนะคะ กับยำเขมร ราคา 150 บาทค่ะ\\n\\nเมนูนี้นะคะ น้ำยำมารสชาติจัดจ้านนะคะ (จะเห็นว่าแยกน้ำจิ้มมาต่างหากด้วย)\\n\\nซึ่งคณะเราเลือกจะราดน้ำยำและคลุกไปเลยค่ะ ซึ่งรสน้ำยำค่อนข้างจัด (และน่าจะจัดกว่าต้นฉบับนะคะ) แต่รสออกเค็มนำนิดหนึ่งนะคะ\\n\\nอาหารกัมพูชาจากวิกิฯ นะคะ\\n\\nอาหารกัมพูชา หรือ อาหารเขมร เป็นอาหารที่บริโภคกันอย่างแพร่หลายในประเทศอินโดนีเซีย อาหารของกัมพูชามีทั้งผลไม้ ข้าว ก๋วยเตี๋ยว เครื่องดื่ม ขนมและซุปต่างๆ ที่รับประทานเกือบทุกมื้อ แต่ก๋วยเตี๋ยวยังเป็นที่นิยม กับข้าวมีความหลากหลายทั้งที่เป็นแกง ซุป ทอดและผัด มีพันธุ์ข้าวจำนวนมากในประเทศกัมพูชารวมทั้งข้าวหอมและข้าวเหนียว ข้าวเหนียวนิยมรับประทานเป็นของหวานกับกับผลไม้ เช่น มะม่วง\\n\\nอาหารเขมรมากมีความคล้ายคลึงกับอาหารของเพื่อนบ้านอย่างประเทศไทยแม้ว่าโดยทั่วไปจะไม่เผ็ดเท่า และเวียดนามที่มีประวัติศาสตร์ร่วมกันในการเป็นอาณานิคมฝรั่งเศสในเอเชียตะวันออกเฉียงใต้ นอกจากนี้ยังได้รับอิทธิพลจากอาหารจีนและฝรั่งเศสที่เคยมีอิทธิพลต่อกัมพูชาในประวัติศาสตร์ อาหารประเภทแกงหรือที่เรียกว่ากะหรี่ (เขมร: ការី) แสดงร่องรอยของอิทธิพลทางวัฒนธรรมจากอาหารอินเดีย ก๋วยเตี๋ยวเส้นหลายรูปแบบแสดงอิทธิพลของอาหารจีน กะทิเป็นส่วนผสมหลักของแกงกะหรี่เขมรและของหวาน\\n\\nขนมปังฝรั่งเศสเป็นอาหารที่ได้รับอิทธิพลจากยุคอาณานิคม ซึ่งชาวกัมพูชามักจะกินกับปลากระป๋องหรือไข่ กาแฟปรุงด้วยนมข้นหวาน เป็นตัวอย่างของอาหารเช้ากัมพูชาในกัมพูชาแบบหนึ่ง\\n\\nปิดท้ายด้วยเมนูอีกหนึ่งค่ะกับซุปหางวัว (บรูไน) ราคา 250 บาทค่ะ\\n\\nตัวนี้อร่อยสุดเลยค่ะ (แต่ถ่ายรูปมาน้อยสุดซะงั้น) รสชาติน้ำซุปอร่อย รสจัด เผ็ดนิดๆ หางวัวก็ออกมาเปื่อยนิ่ม อร่อยมากค่ะ Smiley\\n\\nซึ่งตัวเมนูนี้ก็เป็นหนึ่งในเมนูขึ้นชื่อของห้องอาหารนี้แต่ไหนแต่ไรอยู่แล้วน่ะนะคะ เพราะฉะนั้นถ้าไปก็สั่งได้เลยค่ะ (ถ้ากินเนื้อวัวได้นะคะ)\\n\\nขอปิดท้ายภาพรวมของอาหารทุกจานอีกที ก่อนจะไปที่เมนูที่สั่งมาเพิ่มเติมเพื่อชิมอีกสองเมนูนะคะ\\n\\nจากนั้นเชฟบัวก็ออกมาพูดคุยกับเราค่ะ\\n\\nสำหรับเชฟบัว ที่จริงแล้วเชฟถนัดอาหารไทยชาววังนะคะ (แต่ขอบอกว่า..กินแล้วรู้สึกถึงฝีมือการทำอาหารของเชฟค่ะ) ซึ่งก็มีประสบการณ์ในการเป็นเชฟมาเกือบยี่สิบปีแล้วค่ะ ซึ่งเคยอยู่ทั้งโรงแรมห้าดาวที่อื่น และไปยังประเทศต่างๆ ไม่ว่าจะเป็นนิวซีแลนด์ สิงคโปร์ จนกระทั่งมาอยู่ที่นี่ค่ะ\\n\\nซึ่งเชฟก็บอกเล่าว่า อย่างเครื่องเทศต่างๆ ก็มีนำเข้ามาจากมาเลเซีย อินโดนีเซียค่ะ ส่วนการเลือกอาหารของแต่ละประเทศ ก็พยายามที่จะไม่ให้ชนกันในรูปแบบของอาหารนะคะ อย่างที่จริงลาวมีเมนูสลัดหลวงพระบางซึ่งจะชนกับของกัมพูชาคือยำเขมร ก็จะเลือกเมนูที่รูปแบบของอาหารไม่ซ้ำกันน่ะค่ะ\\n\\nแต่ที่นี่เองก่อนจะตั้งคอนเซปต์นี้ อาหารที่ดังๆ ของที่นี่นอกจากการเป็นห้องอาหารฮาลาลแล้ว ก็มีอีกหลายเมนูที่ดังค่ะ อย่างซุปหางวัวที่กินไปก่อนหน้านี้นั่นก็ใช่ ผัดไทยก็เช่นกันค่ะ นอกจากนั้นก็มีแกงเขียวหวานเนื้อกับโรตี และบัวลอยไข่เค็มด้วยค่ะ\\n\\nพวกเราก็เลยขอให้เชฟทำมาให้ ก็จะมีอีกสองเมนูมารีวิวนะคะ คือ แกงเขียวหวานเนื้อกับโรตี และต้มยำกุ้งค่ะ\\n\\nอีกหนึ่งเมนูดังของที่นี่ค่ะ กับแกงเขียวหวานเนื้อโรตีค่ะ\\n\\nสำหรับเมนูนี้นะคะ ตัวน้ำแกงเข้มข้นหอมเครื่องแกงและรสชาติดีมาก หอมแบบไม่ค่อยได้กินแกงเขียวหานกลิ่นและรสชาติแบบนี้มานานมากค่ะ ส่วนตัวเนื้อทางเชฟเลือกมาแบบเนื้อที่ไม่ติดมันเลย (สมัยบ้านเรายังกินเนื้อกันอยู่ (ตอนนี้เรากินเฉพาะเวลามีงานชิมค่ะ ปกติก็ไม่กินเหมือนเดิม แหะๆ) บ้านเราจะใช้เนื้อติดมันนิดๆ ทำค่ะ) ซึ่งทำให้ค่อนข้างเคี้ยวสู้ฟันพอควรเลยค่ะ แต่..ที่เรากินมันมีกลิ่นสาบของเนื้อง่ะค่ะ แต่คนอื่นหลายคนบอกว่าไม่ได้กลิ่นนะคะ อันนี้เลยไม่แน่ใจว่าเป็นชิ้นที่เรากินเท่านั้นหรือเปล่าน่อ\\n\\nอีกหนึ่งเมนูกับต้มยำกุ้งนะคะ\\n\\nตัวนี้รสจัดจ้านพอควรค่ะ มีกลิ่นหอมมันกุ้งด้วยนะคะ แต่สำหรับเรายังไม่สุดง่ะ มันเหมือนยังไม่จัดเป๊ะพอดิบพอดีแบบที่เราชอบน่ะค่ะ แต่สำหรับคนที่กินไม่จัดมากนักน่าจะชอบกันหละค่ะ เพราะคนอื่นๆ ที่กินไม่จัดเห็นชมกันนะคะ แหะๆ\\n\\nส่วนตัวกุ้งในต้มยำเราไม่ได้ชิม เลยไม่แน่ใจว่าสดไม่สดอย่างไรนะฮับ\\n\\nนอกจากอาหารทั้งหลายทั้งปวงแล้วนะคะ มีอีกอย่างที่เด่นมากของที่นี่ค่ะ\\n\\nนั่นก็คือ ข้าวสวยของที่นี่มีกลิ่นหอมที่เหมือนมีการทำอะไรสักอย่างอย่างโดดเด่นมากๆ เลยหละค่ะ แต่ได้เม้นท์ไปแล้วว่าด้วยกลิ่นที่เด่นมากแบบนี้ มันทำให้เวลากินกับกับข้าวอย่างอื่นแล้วมันมีผลต่อรสชาติและกลิ่นของอาหารอื่นๆ น่ะค่ะ\\n\\nสรุปสำหรับห้องอาหารนี้นะคะ\\n\\nเราชอบแทบทุกจานที่ได้ชิมวันนั้นเลยค่ะ เป็นเชฟอีกคนที่ทำอาหารไทยและอาหารชาติอื่นๆ (ที่ได้รับการปรับประยุกต์รสชาติให้ถูกปากคนไทย) ได้ดีเลยนะคะ เราเองยังคิดว่า เดี๋ยวถ้าได้พาแม่ไปกินบุฟเฟท์ข้าวต้ม จะพาแม่ไปกินอาหารอื่นๆ ที่ห้องนี้ (อาจจะลองบัวลอยไข่เค็ม อีกเมนูเด่นของที่นี่หรือเมนูอื่นค่ะ) คิดว่าน่าจะเป็นอีกร้านในกรุงเทพฯ ที่แม่น่าจะถูกปากล่ะค่ะ แหะๆ\\n\\nซึ่งถ้าใครที่อยากให้ลูกหลาน (หรือตัวเอง) ได้เรียนรู้วัฒนธรรมประเทศเพื่อนบ้านเพื่อต้อนรับการเปิดอย่างเป็นทางการของประชาคมอาเซียน การพาไปรับประทานอาหารของชาติต่างๆ (ที่ถูกปรับให้ลิ้นคนไทยอร่อยแล้ว) ก็น่าจะเป็นการเรียนรู้วัฒนธรรมที่ดีอย่างหนึ่งนะคะ แถมที่เชฟเลือกมาทำ ก็กินไม่ได้ยากเลยค่ะ มีโอกาสก็ลองไปรับประทานกันดูนะคะ'"
      ]
     },
     "execution_count": 100,
     "metadata": {},
     "output_type": "execute_result"
    }
   ],
   "source": [
    "tr[tr[\"review\"].str.len()==tr[\"review\"].str.len().max()].iloc[0][\"review\"]"
   ]
  },
  {
   "cell_type": "markdown",
   "metadata": {},
   "source": [
    "# Explore Test Data"
   ]
  },
  {
   "cell_type": "code",
   "execution_count": 78,
   "metadata": {},
   "outputs": [],
   "source": [
    "ts = pd.read_csv(\"test_file.csv\", sep=\";\")"
   ]
  },
  {
   "cell_type": "code",
   "execution_count": 79,
   "metadata": {},
   "outputs": [
    {
     "name": "stdout",
     "output_type": "stream",
     "text": [
      "<class 'pandas.core.frame.DataFrame'>\n",
      "RangeIndex: 6203 entries, 0 to 6202\n",
      "Data columns (total 2 columns):\n",
      "reviewID    6203 non-null int64\n",
      "review      6203 non-null object\n",
      "dtypes: int64(1), object(1)\n",
      "memory usage: 97.0+ KB\n"
     ]
    }
   ],
   "source": [
    "ts.info()"
   ]
  },
  {
   "cell_type": "code",
   "execution_count": 80,
   "metadata": {},
   "outputs": [
    {
     "data": {
      "text/html": [
       "<div>\n",
       "<style>\n",
       "    .dataframe thead tr:only-child th {\n",
       "        text-align: right;\n",
       "    }\n",
       "\n",
       "    .dataframe thead th {\n",
       "        text-align: left;\n",
       "    }\n",
       "\n",
       "    .dataframe tbody tr th {\n",
       "        vertical-align: top;\n",
       "    }\n",
       "</style>\n",
       "<table border=\"1\" class=\"dataframe\">\n",
       "  <thead>\n",
       "    <tr style=\"text-align: right;\">\n",
       "      <th></th>\n",
       "      <th>reviewID</th>\n",
       "      <th>review</th>\n",
       "    </tr>\n",
       "  </thead>\n",
       "  <tbody>\n",
       "    <tr>\n",
       "      <th>0</th>\n",
       "      <td>1</td>\n",
       "      <td>ร้านนี้จะอยู่เส้นสันกำแพง-แม่ออน เลยแยกบ่...</td>\n",
       "    </tr>\n",
       "    <tr>\n",
       "      <th>1</th>\n",
       "      <td>2</td>\n",
       "      <td>สั่งไป2 เมนู คือมัชฉะลาเต้ร้อน กับ ไอศครีมชาเข...</td>\n",
       "    </tr>\n",
       "    <tr>\n",
       "      <th>2</th>\n",
       "      <td>3</td>\n",
       "      <td>ครัววงเดือน  \\n\\nหิวดึกๆ ตระเวนหาร้านทาน มาเจอ...</td>\n",
       "    </tr>\n",
       "    <tr>\n",
       "      <th>3</th>\n",
       "      <td>4</td>\n",
       "      <td>จะว่าเป็นเจ้าประจำก็คงไม่ผิด แต่ก็ไม่กล้า...</td>\n",
       "    </tr>\n",
       "    <tr>\n",
       "      <th>4</th>\n",
       "      <td>5</td>\n",
       "      <td>ถ้าคิดถึงสลัดผมคิดถึงร้านนี้เป็นร้านแรกๆเลยครั...</td>\n",
       "    </tr>\n",
       "    <tr>\n",
       "      <th>5</th>\n",
       "      <td>6</td>\n",
       "      <td>กระบี่ก็ต้องไม่พลาด ร้านนี้ค่ะ ร้านปูดำ ส่วนอา...</td>\n",
       "    </tr>\n",
       "    <tr>\n",
       "      <th>6</th>\n",
       "      <td>7</td>\n",
       "      <td>ร้านดัง  ของหวานอร่อยที่สุดก็คงต้องยกให้  afte...</td>\n",
       "    </tr>\n",
       "    <tr>\n",
       "      <th>7</th>\n",
       "      <td>8</td>\n",
       "      <td>อาหารหลากหลายไทย จีน ฝรั่ง ชาบูก็มา ของหวานมีฮ...</td>\n",
       "    </tr>\n",
       "    <tr>\n",
       "      <th>8</th>\n",
       "      <td>9</td>\n",
       "      <td>เป็นร้านอาหารเพื่อสุขภาพที่รสชาติดี ทานแล้วไม่...</td>\n",
       "    </tr>\n",
       "    <tr>\n",
       "      <th>9</th>\n",
       "      <td>10</td>\n",
       "      <td>ดีใจที่จุดพักรถมอร์เตอร์เวย์ขาเข้า มีร้านอาหาร...</td>\n",
       "    </tr>\n",
       "  </tbody>\n",
       "</table>\n",
       "</div>"
      ],
      "text/plain": [
       "   reviewID                                             review\n",
       "0         1       ร้านนี้จะอยู่เส้นสันกำแพง-แม่ออน เลยแยกบ่...\n",
       "1         2  สั่งไป2 เมนู คือมัชฉะลาเต้ร้อน กับ ไอศครีมชาเข...\n",
       "2         3  ครัววงเดือน  \\n\\nหิวดึกๆ ตระเวนหาร้านทาน มาเจอ...\n",
       "3         4       จะว่าเป็นเจ้าประจำก็คงไม่ผิด แต่ก็ไม่กล้า...\n",
       "4         5  ถ้าคิดถึงสลัดผมคิดถึงร้านนี้เป็นร้านแรกๆเลยครั...\n",
       "5         6  กระบี่ก็ต้องไม่พลาด ร้านนี้ค่ะ ร้านปูดำ ส่วนอา...\n",
       "6         7  ร้านดัง  ของหวานอร่อยที่สุดก็คงต้องยกให้  afte...\n",
       "7         8  อาหารหลากหลายไทย จีน ฝรั่ง ชาบูก็มา ของหวานมีฮ...\n",
       "8         9  เป็นร้านอาหารเพื่อสุขภาพที่รสชาติดี ทานแล้วไม่...\n",
       "9        10  ดีใจที่จุดพักรถมอร์เตอร์เวย์ขาเข้า มีร้านอาหาร..."
      ]
     },
     "execution_count": 80,
     "metadata": {},
     "output_type": "execute_result"
    }
   ],
   "source": [
    "ts.head(10)"
   ]
  },
  {
   "cell_type": "code",
   "execution_count": 88,
   "metadata": {},
   "outputs": [
    {
     "data": {
      "text/plain": [
       "count    40000.000000\n",
       "mean       540.371700\n",
       "std        532.988348\n",
       "min        200.000000\n",
       "25%        255.000000\n",
       "50%        371.000000\n",
       "75%        609.000000\n",
       "max      20557.000000\n",
       "Name: review, dtype: float64"
      ]
     },
     "execution_count": 88,
     "metadata": {},
     "output_type": "execute_result"
    }
   ],
   "source": [
    "tr[\"review\"].str.len().describe()"
   ]
  },
  {
   "cell_type": "markdown",
   "metadata": {},
   "source": [
    "# Explore Sample Submission"
   ]
  },
  {
   "cell_type": "code",
   "execution_count": 81,
   "metadata": {
    "collapsed": true
   },
   "outputs": [],
   "source": [
    "ss = pd.read_csv(\"sample_submission.csv\")"
   ]
  },
  {
   "cell_type": "code",
   "execution_count": 82,
   "metadata": {
    "scrolled": true
   },
   "outputs": [
    {
     "data": {
      "text/html": [
       "<div>\n",
       "<style>\n",
       "    .dataframe thead tr:only-child th {\n",
       "        text-align: right;\n",
       "    }\n",
       "\n",
       "    .dataframe thead th {\n",
       "        text-align: left;\n",
       "    }\n",
       "\n",
       "    .dataframe tbody tr th {\n",
       "        vertical-align: top;\n",
       "    }\n",
       "</style>\n",
       "<table border=\"1\" class=\"dataframe\">\n",
       "  <thead>\n",
       "    <tr style=\"text-align: right;\">\n",
       "      <th></th>\n",
       "      <th>reviewID</th>\n",
       "      <th>rating</th>\n",
       "    </tr>\n",
       "  </thead>\n",
       "  <tbody>\n",
       "    <tr>\n",
       "      <th>0</th>\n",
       "      <td>1</td>\n",
       "      <td>4</td>\n",
       "    </tr>\n",
       "    <tr>\n",
       "      <th>1</th>\n",
       "      <td>2</td>\n",
       "      <td>3</td>\n",
       "    </tr>\n",
       "    <tr>\n",
       "      <th>2</th>\n",
       "      <td>3</td>\n",
       "      <td>3</td>\n",
       "    </tr>\n",
       "    <tr>\n",
       "      <th>3</th>\n",
       "      <td>4</td>\n",
       "      <td>4</td>\n",
       "    </tr>\n",
       "  </tbody>\n",
       "</table>\n",
       "</div>"
      ],
      "text/plain": [
       "   reviewID  rating\n",
       "0         1       4\n",
       "1         2       3\n",
       "2         3       3\n",
       "3         4       4"
      ]
     },
     "execution_count": 82,
     "metadata": {},
     "output_type": "execute_result"
    }
   ],
   "source": [
    "ss.head(10)"
   ]
  },
  {
   "cell_type": "code",
   "execution_count": null,
   "metadata": {
    "collapsed": true
   },
   "outputs": [],
   "source": []
  }
 ],
 "metadata": {
  "kernelspec": {
   "display_name": "Python 3",
   "language": "python",
   "name": "python3"
  },
  "language_info": {
   "codemirror_mode": {
    "name": "ipython",
    "version": 3
   },
   "file_extension": ".py",
   "mimetype": "text/x-python",
   "name": "python",
   "nbconvert_exporter": "python",
   "pygments_lexer": "ipython3",
   "version": "3.6.3"
  }
 },
 "nbformat": 4,
 "nbformat_minor": 2
}
