{
 "cells": [
  {
   "cell_type": "code",
   "execution_count": 1,
   "metadata": {
    "collapsed": true
   },
   "outputs": [],
   "source": [
    "import os\n",
    "import pandas as pd\n",
    "import numpy as np\n",
    "import matplotlib.pyplot as plt\n",
    "%matplotlib inline"
   ]
  },
  {
   "cell_type": "markdown",
   "metadata": {},
   "source": [
    "# Prepare Data"
   ]
  },
  {
   "cell_type": "code",
   "execution_count": 2,
   "metadata": {
    "collapsed": false
   },
   "outputs": [],
   "source": [
    "CHARS = [\n",
    "  '\\n', ' ', '!', '\"', '#', '$', '%', '&', \"'\", '(', ')', '*', '+',\n",
    "  ',', '-', '.', '/', '0', '1', '2', '3', '4', '5', '6', '7', '8',\n",
    "  '9', ':', ';', '<', '=', '>', '?', '@', 'A', 'B', 'C', 'D', 'E',\n",
    "  'F', 'G', 'H', 'I', 'J', 'K', 'L', 'M', 'N', 'O', 'P', 'Q', 'R',\n",
    "  'S', 'T', 'U', 'V', 'W', 'X', 'Y', 'Z', '[', '\\\\', ']', '^', '_',\n",
    "  'a', 'b', 'c', 'd', 'e', 'f', 'g', 'h', 'i', 'j', 'k', 'l', 'm',\n",
    "  'n', 'o', 'other', 'p', 'q', 'r', 's', 't', 'u', 'v', 'w', 'x', 'y',\n",
    "  'z', '}', '~', 'ก', 'ข', 'ฃ', 'ค', 'ฅ', 'ฆ', 'ง', 'จ', 'ฉ', 'ช',\n",
    "  'ซ', 'ฌ', 'ญ', 'ฎ', 'ฏ', 'ฐ', 'ฑ', 'ฒ', 'ณ', 'ด', 'ต', 'ถ', 'ท',\n",
    "  'ธ', 'น', 'บ', 'ป', 'ผ', 'ฝ', 'พ', 'ฟ', 'ภ', 'ม', 'ย', 'ร', 'ฤ',\n",
    "  'ล', 'ว', 'ศ', 'ษ', 'ส', 'ห', 'ฬ', 'อ', 'ฮ', 'ฯ', 'ะ', 'ั', 'า',\n",
    "  'ำ', 'ิ', 'ี', 'ึ', 'ื', 'ุ', 'ู', 'ฺ', 'เ', 'แ', 'โ', 'ใ', 'ไ',\n",
    "  'ๅ', 'ๆ', '็', '่', '้', '๊', '๋', '์', 'ํ', '๐', '๑', '๒', '๓',\n",
    "  '๔', '๕', '๖', '๗', '๘', '๙', '‘', '’', '\\ufeff'\n",
    "]\n",
    "CHARS_MAP = {v: k for k, v in enumerate(CHARS)}"
   ]
  },
  {
   "cell_type": "code",
   "execution_count": 3,
   "metadata": {
    "collapsed": true
   },
   "outputs": [],
   "source": [
    "def create_df_with_context(df, n_pad):\n",
    "    for i in range(n_pad):\n",
    "        df['char-{}'.format(i+1)] = df['char'].shift(i + 1)\n",
    "        df['char{}'.format(i+1)] = df['char'].shift(-i - 1)\n",
    "    return df[n_pad: -n_pad]"
   ]
  },
  {
   "cell_type": "code",
   "execution_count": 4,
   "metadata": {
    "collapsed": true
   },
   "outputs": [],
   "source": [
    "def prepare_best_data(option = 'train', n_pad = 10):\n",
    "    pad = [{'char': ' ', 'target': True}]\n",
    "    df_pad = pd.DataFrame(pad * n_pad)\n",
    "    \n",
    "    df_list = []\n",
    "    article_types = ['article', 'encyclopedia', 'news', 'novel']\n",
    "    for article_type in article_types:\n",
    "        df_list.append(pd.read_csv(os.path.join('../../corpora/BEST', option, 'df_best_{}_{}.csv'.format(article_type, option))))\n",
    "  \n",
    "    df_list = [df_pad] + df_list + [df_pad]\n",
    "    df = pd.concat(df_list)\n",
    "\n",
    "    df['char'] = df['char'].map(lambda x: CHARS_MAP.get(x, CHARS_MAP['other']))\n",
    "    \n",
    "    df_with_context = create_df_with_context(df, n_pad)\n",
    "\n",
    "    char_row = ['char' + str(i + 1) for i in range(n_pad)] + ['char-' + str(i + 1) for i in range(n_pad)] + ['char']\n",
    "\n",
    "    x_char = df_with_context[char_row].as_matrix()\n",
    "    y = df_with_context['target'].astype(int).as_matrix()\n",
    "\n",
    "    return x_char, y"
   ]
  },
  {
   "cell_type": "code",
   "execution_count": 5,
   "metadata": {
    "collapsed": false
   },
   "outputs": [
    {
     "name": "stdout",
     "output_type": "stream",
     "text": [
      "Training data shape          : (16461637, 21)\n",
      "Training data labels shape   : (16461637,)\n",
      "Validation data shape        : (2035694, 21)\n",
      "Validation data labels shape : (2035694,)\n",
      "Test data shape              : (2271932, 21)\n",
      "Test data labels shape       : (2271932,)\n"
     ]
    }
   ],
   "source": [
    "x_train_char, y_train = prepare_best_data('train', 10)\n",
    "x_val_char, y_val = prepare_best_data('val', 10)\n",
    "x_test_char, y_test = prepare_best_data('test', 10)\n",
    "\n",
    "print('Training data shape          :', x_train_char.shape)\n",
    "print('Training data labels shape   :', y_train.shape)\n",
    "print('Validation data shape        :', x_val_char.shape)\n",
    "print('Validation data labels shape :', y_val.shape)\n",
    "print('Test data shape              :', x_test_char.shape)\n",
    "print('Test data labels shape       :', y_test.shape)"
   ]
  },
  {
   "cell_type": "code",
   "execution_count": 6,
   "metadata": {
    "collapsed": false
   },
   "outputs": [
    {
     "name": "stdout",
     "output_type": "stream",
     "text": [
      "First 3 features:  [[ 112.  140.  114.  148.  130.  142.   94.  142.  128.  128.    1.    1.\n",
      "     1.    1.    1.    1.    1.    1.    1.    1.   97.]\n",
      " [ 140.  114.  148.  130.  142.   94.  142.  128.  128.  141.   97.    1.\n",
      "     1.    1.    1.    1.    1.    1.    1.    1.  112.]\n",
      " [ 114.  148.  130.  142.   94.  142.  128.  128.  141.  109.  112.   97.\n",
      "     1.    1.    1.    1.    1.    1.    1.    1.  140.]]\n",
      "First 30 class labels [1 0 0 0 0 0 0 0 0 0 0 0 0 0 0 0 0 0 0 0 1 0 0 1 0 0 0 1 0 0]\n"
     ]
    }
   ],
   "source": [
    "# Print some entry from the data to make sure it is the same as what you think.\n",
    "print('First 3 features: ', x_train_char[:3])\n",
    "print('First 30 class labels', y_train[:30])"
   ]
  },
  {
   "cell_type": "markdown",
   "metadata": {},
   "source": [
    "# Convolution Neural Network"
   ]
  },
  {
   "cell_type": "code",
   "execution_count": 13,
   "metadata": {
    "collapsed": false
   },
   "outputs": [],
   "source": [
    "from keras.models import Model\n",
    "from keras.layers import Input, Conv1D, Embedding, TimeDistributed, Flatten, Dense\n",
    "from keras.optimizers import Adam\n",
    "\n",
    "def get_cnn():\n",
    "    input1 = Input(shape=(21,))\n",
    "    x = Embedding(len(CHARS), 32)(input1)\n",
    "    x = Conv1D(100, 5, strides=1, activation='relu', padding=\"same\")(x)\n",
    "    x = TimeDistributed(Dense(5))(x)\n",
    "    x = Flatten()(x)\n",
    "    x = Dense(100, activation='relu')(x)\n",
    "    out = Dense(1, activation='sigmoid')(x)\n",
    "    model = Model(inputs=input1, outputs=out)\n",
    "    model.compile(optimizer=Adam(), loss='binary_crossentropy', metrics=['acc'])\n",
    "    return model"
   ]
  },
  {
   "cell_type": "code",
   "execution_count": 14,
   "metadata": {
    "collapsed": true
   },
   "outputs": [],
   "source": [
    "from sklearn.metrics import f1_score,precision_score,recall_score\n",
    "\n",
    "def evaluate(x_test, y_test, model):\n",
    "    y_pred = model.predict(x_test)\n",
    "    prob_to_class = lambda p: 1 if p[0]>=0.5 else 0\n",
    "    y_pred = np.apply_along_axis(prob_to_class,1,y_pred)\n",
    "    f1score = f1_score(y_test,y_pred)\n",
    "    precision = precision_score(y_test,y_pred)\n",
    "    recall = recall_score(y_test,y_pred)\n",
    "    return f1score, precision, recall"
   ]
  },
  {
   "cell_type": "code",
   "execution_count": 15,
   "metadata": {
    "collapsed": false
   },
   "outputs": [
    {
     "name": "stdout",
     "output_type": "stream",
     "text": [
      "start training\n",
      "train with 3 epochs and 512 batch size\n",
      "Train on 16461637 samples, validate on 2035694 samples\n",
      "Epoch 1/3\n",
      "16461637/16461637 [==============================] - 302s - loss: 0.0776 - acc: 0.9704 - val_loss: 0.0671 - val_acc: 0.9751\n",
      "Epoch 2/3\n",
      "16461637/16461637 [==============================] - 301s - loss: 0.0574 - acc: 0.9788 - val_loss: 0.0617 - val_acc: 0.9774\n",
      "Epoch 3/3\n",
      "16461637/16461637 [==============================] - 306s - loss: 0.0528 - acc: 0.9808 - val_loss: 0.0587 - val_acc: 0.9792\n"
     ]
    }
   ],
   "source": [
    "from keras import backend as K\n",
    "K.clear_session()\n",
    "\n",
    "print('start training')\n",
    "verbose = 1\n",
    "model_cnn = get_cnn()\n",
    "\n",
    "train_params = [(3, 512)]\n",
    "for (epochs, batch_size) in train_params:\n",
    "    print(\"train with {} epochs and {} batch size\".format(epochs, batch_size))\n",
    "    model_cnn.fit(x_train_char, y_train, epochs=epochs, batch_size=batch_size, verbose=verbose,\n",
    "                           validation_data=(x_val_char, y_val))"
   ]
  },
  {
   "cell_type": "code",
   "execution_count": 16,
   "metadata": {
    "collapsed": false
   },
   "outputs": [
    {
     "data": {
      "text/plain": [
       "(0.96674245864595254, 0.95680406724696521, 0.97688947863106101)"
      ]
     },
     "execution_count": 16,
     "metadata": {},
     "output_type": "execute_result"
    }
   ],
   "source": [
    "evaluate(x_test_char, y_test, model_cnn)"
   ]
  },
  {
   "cell_type": "code",
   "execution_count": 17,
   "metadata": {
    "collapsed": true
   },
   "outputs": [],
   "source": [
    "path_model_cnn='../data/model_tokenize_cnn.h5'\n",
    "model_cnn.save(path_model_cnn)"
   ]
  },
  {
   "cell_type": "code",
   "execution_count": 6,
   "metadata": {
    "collapsed": false
   },
   "outputs": [],
   "source": [
    "# Load from saved model\n",
    "\n",
    "from keras.models import load_model\n",
    "path_model_cnn='../data/model_tokenize_cnn.h5'\n",
    "model_cnn = load_model(path_model_cnn)"
   ]
  },
  {
   "cell_type": "markdown",
   "metadata": {},
   "source": [
    "# Tokenize Wongnai Data"
   ]
  },
  {
   "cell_type": "code",
   "execution_count": 14,
   "metadata": {
    "collapsed": true
   },
   "outputs": [],
   "source": [
    "tr = pd.read_csv(\"../data/w_review_train.csv\", sep=\";\", names = [\"review\", \"label\"])\n",
    "ts = pd.read_csv(\"../data/test_file.csv\", sep=\";\")"
   ]
  },
  {
   "cell_type": "code",
   "execution_count": 15,
   "metadata": {
    "collapsed": false
   },
   "outputs": [],
   "source": [
    "def prepare_feature(text, n_pad = 10):\n",
    "    pad = [{'char': ' '}]\n",
    "    df_pad = pd.DataFrame(pad * n_pad)\n",
    "    \n",
    "    df_list = []\n",
    "    df_list.append(pd.DataFrame({'char': list(text)}))\n",
    "    df_list = [df_pad] + df_list + [df_pad]\n",
    "                   \n",
    "    df = pd.concat(df_list)\n",
    "\n",
    "    df['char'] = df['char'].map(lambda x: CHARS_MAP.get(x, CHARS_MAP['other']))\n",
    "    \n",
    "    df_with_context = create_df_with_context(df, n_pad)\n",
    "\n",
    "    char_row = ['char' + str(i + 1) for i in range(n_pad)] + ['char-' + str(i + 1) for i in range(n_pad)] + ['char']\n",
    "\n",
    "    x_char = df_with_context[char_row].as_matrix()\n",
    "\n",
    "    return x_char"
   ]
  },
  {
   "cell_type": "code",
   "execution_count": 16,
   "metadata": {
    "collapsed": true
   },
   "outputs": [],
   "source": [
    "def char_to_word(text, y_pred):\n",
    "    split_text=\"\"\n",
    "    for char, y in zip(text, y_pred):\n",
    "        if y == 1:\n",
    "            split_text+=\" \"\n",
    "            split_text+=char\n",
    "        else:\n",
    "            split_text+=char\n",
    "    return split_text.split(\" \")"
   ]
  },
  {
   "cell_type": "code",
   "execution_count": 21,
   "metadata": {
    "collapsed": true
   },
   "outputs": [],
   "source": [
    "def tokenize(text, model):\n",
    "    x_char = prepare_feature(text)\n",
    "    y_pred = model.predict(x_char)\n",
    "    prob_to_class = lambda p: 1 if p[0]>=0.5 else 0\n",
    "    y_pred = np.apply_along_axis(prob_to_class,1,y_pred)\n",
    "    tokens = char_to_word(text, y_pred)\n",
    "    return tokens"
   ]
  },
  {
   "cell_type": "code",
   "execution_count": 22,
   "metadata": {
    "collapsed": false
   },
   "outputs": [],
   "source": [
    "# This take around an hour to finish\n",
    "tr[\"tokenizedReview\"] = tr[\"review\"].apply(lambda x: tokenize(x,model_cnn))"
   ]
  },
  {
   "cell_type": "code",
   "execution_count": 31,
   "metadata": {
    "collapsed": false
   },
   "outputs": [
    {
     "data": {
      "text/html": [
       "<div>\n",
       "<style>\n",
       "    .dataframe thead tr:only-child th {\n",
       "        text-align: right;\n",
       "    }\n",
       "\n",
       "    .dataframe thead th {\n",
       "        text-align: left;\n",
       "    }\n",
       "\n",
       "    .dataframe tbody tr th {\n",
       "        vertical-align: top;\n",
       "    }\n",
       "</style>\n",
       "<table border=\"1\" class=\"dataframe\">\n",
       "  <thead>\n",
       "    <tr style=\"text-align: right;\">\n",
       "      <th></th>\n",
       "      <th>review</th>\n",
       "      <th>label</th>\n",
       "      <th>tokenizedReview</th>\n",
       "    </tr>\n",
       "  </thead>\n",
       "  <tbody>\n",
       "    <tr>\n",
       "      <th>0</th>\n",
       "      <td>ร้านอาหารใหญ่มากกกกกกก \\nเลี้ยวเข้ามาเจอห้องน้...</td>\n",
       "      <td>3</td>\n",
       "      <td>[, ร้าน, อาหาร, ใหญ่, มา, กกกกกกก, \\n, เลี้ยว,...</td>\n",
       "    </tr>\n",
       "    <tr>\n",
       "      <th>1</th>\n",
       "      <td>อาหารที่นี่เป็นอาหารจีนแคะที่หากินยากในบ้านเรา...</td>\n",
       "      <td>4</td>\n",
       "      <td>[, อาหาร, ที่, นี่, เป็น, อาหาร, จีน, แคะ, ที่...</td>\n",
       "    </tr>\n",
       "    <tr>\n",
       "      <th>2</th>\n",
       "      <td>ปอเปี๊ยะสด ทุกวันนี้รู้สึกว่าหากินยาก (ร้านที่...</td>\n",
       "      <td>3</td>\n",
       "      <td>[, ปอเปี๊ยะสด, , , ทุก, วัน, นี้, รู้สึก, ว่า,...</td>\n",
       "    </tr>\n",
       "    <tr>\n",
       "      <th>3</th>\n",
       "      <td>รัานคัพเค้กในเมืองไทยมีไม่มาก หลายๆคนอาจจะสงสั...</td>\n",
       "      <td>5</td>\n",
       "      <td>[, รัาน, คัพเค้ก, ใน, เมือง, ไทย, มี, ไม่, มาก...</td>\n",
       "    </tr>\n",
       "    <tr>\n",
       "      <th>4</th>\n",
       "      <td>อร่อย!!! เดินผ่านDigital gatewayทุกวัน ไม่ยักร...</td>\n",
       "      <td>5</td>\n",
       "      <td>[, อร่อย, !, !, !, , , เดิน, ผ่าน, Digital, , ...</td>\n",
       "    </tr>\n",
       "  </tbody>\n",
       "</table>\n",
       "</div>"
      ],
      "text/plain": [
       "                                              review  label  \\\n",
       "0  ร้านอาหารใหญ่มากกกกกกก \\nเลี้ยวเข้ามาเจอห้องน้...      3   \n",
       "1  อาหารที่นี่เป็นอาหารจีนแคะที่หากินยากในบ้านเรา...      4   \n",
       "2  ปอเปี๊ยะสด ทุกวันนี้รู้สึกว่าหากินยาก (ร้านที่...      3   \n",
       "3  รัานคัพเค้กในเมืองไทยมีไม่มาก หลายๆคนอาจจะสงสั...      5   \n",
       "4  อร่อย!!! เดินผ่านDigital gatewayทุกวัน ไม่ยักร...      5   \n",
       "\n",
       "                                     tokenizedReview  \n",
       "0  [, ร้าน, อาหาร, ใหญ่, มา, กกกกกกก, \\n, เลี้ยว,...  \n",
       "1  [, อาหาร, ที่, นี่, เป็น, อาหาร, จีน, แคะ, ที่...  \n",
       "2  [, ปอเปี๊ยะสด, , , ทุก, วัน, นี้, รู้สึก, ว่า,...  \n",
       "3  [, รัาน, คัพเค้ก, ใน, เมือง, ไทย, มี, ไม่, มาก...  \n",
       "4  [, อร่อย, !, !, !, , , เดิน, ผ่าน, Digital, , ...  "
      ]
     },
     "execution_count": 31,
     "metadata": {},
     "output_type": "execute_result"
    }
   ],
   "source": [
    "tr.head()"
   ]
  },
  {
   "cell_type": "code",
   "execution_count": 32,
   "metadata": {
    "collapsed": true
   },
   "outputs": [],
   "source": [
    "ts[\"tokenizedReview\"] = ts[\"review\"].apply(lambda x: tokenize(x,model_cnn))"
   ]
  },
  {
   "cell_type": "code",
   "execution_count": 33,
   "metadata": {
    "collapsed": false
   },
   "outputs": [
    {
     "data": {
      "text/html": [
       "<div>\n",
       "<style>\n",
       "    .dataframe thead tr:only-child th {\n",
       "        text-align: right;\n",
       "    }\n",
       "\n",
       "    .dataframe thead th {\n",
       "        text-align: left;\n",
       "    }\n",
       "\n",
       "    .dataframe tbody tr th {\n",
       "        vertical-align: top;\n",
       "    }\n",
       "</style>\n",
       "<table border=\"1\" class=\"dataframe\">\n",
       "  <thead>\n",
       "    <tr style=\"text-align: right;\">\n",
       "      <th></th>\n",
       "      <th>reviewID</th>\n",
       "      <th>review</th>\n",
       "      <th>tokenizedReview</th>\n",
       "    </tr>\n",
       "  </thead>\n",
       "  <tbody>\n",
       "    <tr>\n",
       "      <th>0</th>\n",
       "      <td>1</td>\n",
       "      <td>ร้านนี้จะอยู่เส้นสันกำแพง-แม่ออน เลยแยกบ่...</td>\n",
       "      <td>[, , , , , , , , , , , ร้าน, นี้, จะ, อยู่, เส...</td>\n",
       "    </tr>\n",
       "    <tr>\n",
       "      <th>1</th>\n",
       "      <td>2</td>\n",
       "      <td>สั่งไป2 เมนู คือมัชฉะลาเต้ร้อน กับ ไอศครีมชาเข...</td>\n",
       "      <td>[, สั่ง, ไป, 2, , , เมนู, , , คือ, มัชฉะลา, เต...</td>\n",
       "    </tr>\n",
       "    <tr>\n",
       "      <th>2</th>\n",
       "      <td>3</td>\n",
       "      <td>ครัววงเดือน  \\n\\nหิวดึกๆ ตระเวนหาร้านทาน มาเจอ...</td>\n",
       "      <td>[, ครัววงเดือน, , , , \\n\\n, หิว, ดึก, ๆ, , , ต...</td>\n",
       "    </tr>\n",
       "    <tr>\n",
       "      <th>3</th>\n",
       "      <td>4</td>\n",
       "      <td>จะว่าเป็นเจ้าประจำก็คงไม่ผิด แต่ก็ไม่กล้า...</td>\n",
       "      <td>[, , , , , , , , , , , จะ, ว่า, เป็น, เจ้า, ปร...</td>\n",
       "    </tr>\n",
       "    <tr>\n",
       "      <th>4</th>\n",
       "      <td>5</td>\n",
       "      <td>ถ้าคิดถึงสลัดผมคิดถึงร้านนี้เป็นร้านแรกๆเลยครั...</td>\n",
       "      <td>[, ถ้า, คิด, ถึง, สลัด, ผม, คิด, ถึง, ร้าน, นี...</td>\n",
       "    </tr>\n",
       "  </tbody>\n",
       "</table>\n",
       "</div>"
      ],
      "text/plain": [
       "   reviewID                                             review  \\\n",
       "0         1       ร้านนี้จะอยู่เส้นสันกำแพง-แม่ออน เลยแยกบ่...   \n",
       "1         2  สั่งไป2 เมนู คือมัชฉะลาเต้ร้อน กับ ไอศครีมชาเข...   \n",
       "2         3  ครัววงเดือน  \\n\\nหิวดึกๆ ตระเวนหาร้านทาน มาเจอ...   \n",
       "3         4       จะว่าเป็นเจ้าประจำก็คงไม่ผิด แต่ก็ไม่กล้า...   \n",
       "4         5  ถ้าคิดถึงสลัดผมคิดถึงร้านนี้เป็นร้านแรกๆเลยครั...   \n",
       "\n",
       "                                     tokenizedReview  \n",
       "0  [, , , , , , , , , , , ร้าน, นี้, จะ, อยู่, เส...  \n",
       "1  [, สั่ง, ไป, 2, , , เมนู, , , คือ, มัชฉะลา, เต...  \n",
       "2  [, ครัววงเดือน, , , , \\n\\n, หิว, ดึก, ๆ, , , ต...  \n",
       "3  [, , , , , , , , , , , จะ, ว่า, เป็น, เจ้า, ปร...  \n",
       "4  [, ถ้า, คิด, ถึง, สลัด, ผม, คิด, ถึง, ร้าน, นี...  "
      ]
     },
     "execution_count": 33,
     "metadata": {},
     "output_type": "execute_result"
    }
   ],
   "source": [
    "ts.head()"
   ]
  },
  {
   "cell_type": "code",
   "execution_count": 29,
   "metadata": {
    "collapsed": true
   },
   "outputs": [],
   "source": [
    "tr.to_csv('../data/tokenized_train.csv', index=False)\n",
    "ts.to_csv('../data/tokenized_test.csv', index=False)"
   ]
  },
  {
   "cell_type": "code",
   "execution_count": null,
   "metadata": {
    "collapsed": true
   },
   "outputs": [],
   "source": []
  }
 ],
 "metadata": {
  "kernelspec": {
   "display_name": "Python 3",
   "language": "python",
   "name": "python3"
  },
  "language_info": {
   "codemirror_mode": {
    "name": "ipython",
    "version": 3
   },
   "file_extension": ".py",
   "mimetype": "text/x-python",
   "name": "python",
   "nbconvert_exporter": "python",
   "pygments_lexer": "ipython3",
   "version": "3.5.2"
  }
 },
 "nbformat": 4,
 "nbformat_minor": 0
}
