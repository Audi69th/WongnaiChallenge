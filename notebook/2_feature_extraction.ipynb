{
 "cells": [
  {
   "cell_type": "code",
   "execution_count": 68,
   "metadata": {
    "collapsed": true
   },
   "outputs": [],
   "source": [
    "import os\n",
    "import pandas as pd\n",
    "import numpy as np\n",
    "import matplotlib.pyplot as plt\n",
    "%matplotlib inline"
   ]
  },
  {
   "cell_type": "markdown",
   "metadata": {},
   "source": [
    "# Load Tokenized Data"
   ]
  },
  {
   "cell_type": "code",
   "execution_count": 69,
   "metadata": {
    "collapsed": true
   },
   "outputs": [],
   "source": [
    "tr = pd.read_csv(\"../data/tokenized_train.csv\")\n",
    "ts = pd.read_csv(\"../data/tokenized_test.csv\")"
   ]
  },
  {
   "cell_type": "code",
   "execution_count": 70,
   "metadata": {
    "collapsed": true
   },
   "outputs": [],
   "source": [
    "def preprocess(tokens):\n",
    "    tokens = eval(tokens)\n",
    "    tokens = list(filter(lambda x: x!='', tokens))\n",
    "    tokens = list(map(lambda x: x.lower(), tokens))\n",
    "    return tokens"
   ]
  },
  {
   "cell_type": "code",
   "execution_count": 71,
   "metadata": {
    "collapsed": false
   },
   "outputs": [],
   "source": [
    "tr[\"tokenizedReview\"] = tr[\"tokenizedReview\"].apply(lambda x: preprocess(x))\n",
    "ts[\"tokenizedReview\"] = ts[\"tokenizedReview\"].apply(lambda x: preprocess(x))"
   ]
  },
  {
   "cell_type": "code",
   "execution_count": 72,
   "metadata": {
    "collapsed": false
   },
   "outputs": [
    {
     "data": {
      "text/html": [
       "<div>\n",
       "<style>\n",
       "    .dataframe thead tr:only-child th {\n",
       "        text-align: right;\n",
       "    }\n",
       "\n",
       "    .dataframe thead th {\n",
       "        text-align: left;\n",
       "    }\n",
       "\n",
       "    .dataframe tbody tr th {\n",
       "        vertical-align: top;\n",
       "    }\n",
       "</style>\n",
       "<table border=\"1\" class=\"dataframe\">\n",
       "  <thead>\n",
       "    <tr style=\"text-align: right;\">\n",
       "      <th></th>\n",
       "      <th>review</th>\n",
       "      <th>label</th>\n",
       "      <th>tokenizedReview</th>\n",
       "    </tr>\n",
       "  </thead>\n",
       "  <tbody>\n",
       "    <tr>\n",
       "      <th>0</th>\n",
       "      <td>ร้านอาหารใหญ่มากกกกกกก \\nเลี้ยวเข้ามาเจอห้องน้...</td>\n",
       "      <td>3</td>\n",
       "      <td>[ร้าน, อาหาร, ใหญ่, มา, กกกกกกก, \\n, เลี้ยว, เ...</td>\n",
       "    </tr>\n",
       "    <tr>\n",
       "      <th>1</th>\n",
       "      <td>อาหารที่นี่เป็นอาหารจีนแคะที่หากินยากในบ้านเรา...</td>\n",
       "      <td>4</td>\n",
       "      <td>[อาหาร, ที่, นี่, เป็น, อาหาร, จีน, แคะ, ที่, ...</td>\n",
       "    </tr>\n",
       "    <tr>\n",
       "      <th>2</th>\n",
       "      <td>ปอเปี๊ยะสด ทุกวันนี้รู้สึกว่าหากินยาก (ร้านที่...</td>\n",
       "      <td>3</td>\n",
       "      <td>[ปอเปี๊ยะสด, ทุก, วัน, นี้, รู้สึก, ว่า, หากิน...</td>\n",
       "    </tr>\n",
       "    <tr>\n",
       "      <th>3</th>\n",
       "      <td>รัานคัพเค้กในเมืองไทยมีไม่มาก หลายๆคนอาจจะสงสั...</td>\n",
       "      <td>5</td>\n",
       "      <td>[รัาน, คัพเค้ก, ใน, เมือง, ไทย, มี, ไม่, มาก, ...</td>\n",
       "    </tr>\n",
       "    <tr>\n",
       "      <th>4</th>\n",
       "      <td>อร่อย!!! เดินผ่านDigital gatewayทุกวัน ไม่ยักร...</td>\n",
       "      <td>5</td>\n",
       "      <td>[อร่อย, !, !, !, เดิน, ผ่าน, digital, gateway,...</td>\n",
       "    </tr>\n",
       "  </tbody>\n",
       "</table>\n",
       "</div>"
      ],
      "text/plain": [
       "                                              review  label  \\\n",
       "0  ร้านอาหารใหญ่มากกกกกกก \\nเลี้ยวเข้ามาเจอห้องน้...      3   \n",
       "1  อาหารที่นี่เป็นอาหารจีนแคะที่หากินยากในบ้านเรา...      4   \n",
       "2  ปอเปี๊ยะสด ทุกวันนี้รู้สึกว่าหากินยาก (ร้านที่...      3   \n",
       "3  รัานคัพเค้กในเมืองไทยมีไม่มาก หลายๆคนอาจจะสงสั...      5   \n",
       "4  อร่อย!!! เดินผ่านDigital gatewayทุกวัน ไม่ยักร...      5   \n",
       "\n",
       "                                     tokenizedReview  \n",
       "0  [ร้าน, อาหาร, ใหญ่, มา, กกกกกกก, \\n, เลี้ยว, เ...  \n",
       "1  [อาหาร, ที่, นี่, เป็น, อาหาร, จีน, แคะ, ที่, ...  \n",
       "2  [ปอเปี๊ยะสด, ทุก, วัน, นี้, รู้สึก, ว่า, หากิน...  \n",
       "3  [รัาน, คัพเค้ก, ใน, เมือง, ไทย, มี, ไม่, มาก, ...  \n",
       "4  [อร่อย, !, !, !, เดิน, ผ่าน, digital, gateway,...  "
      ]
     },
     "execution_count": 72,
     "metadata": {},
     "output_type": "execute_result"
    }
   ],
   "source": [
    "tr.head()"
   ]
  },
  {
   "cell_type": "code",
   "execution_count": 73,
   "metadata": {
    "collapsed": false
   },
   "outputs": [
    {
     "data": {
      "text/html": [
       "<div>\n",
       "<style>\n",
       "    .dataframe thead tr:only-child th {\n",
       "        text-align: right;\n",
       "    }\n",
       "\n",
       "    .dataframe thead th {\n",
       "        text-align: left;\n",
       "    }\n",
       "\n",
       "    .dataframe tbody tr th {\n",
       "        vertical-align: top;\n",
       "    }\n",
       "</style>\n",
       "<table border=\"1\" class=\"dataframe\">\n",
       "  <thead>\n",
       "    <tr style=\"text-align: right;\">\n",
       "      <th></th>\n",
       "      <th>reviewID</th>\n",
       "      <th>review</th>\n",
       "      <th>tokenizedReview</th>\n",
       "    </tr>\n",
       "  </thead>\n",
       "  <tbody>\n",
       "    <tr>\n",
       "      <th>0</th>\n",
       "      <td>1</td>\n",
       "      <td>ร้านนี้จะอยู่เส้นสันกำแพง-แม่ออน เลยแยกบ่...</td>\n",
       "      <td>[ร้าน, นี้, จะ, อยู่, เส้น, สัน, กำแพง, -, แม่...</td>\n",
       "    </tr>\n",
       "    <tr>\n",
       "      <th>1</th>\n",
       "      <td>2</td>\n",
       "      <td>สั่งไป2 เมนู คือมัชฉะลาเต้ร้อน กับ ไอศครีมชาเข...</td>\n",
       "      <td>[สั่ง, ไป, 2, เมนู, คือ, มัชฉะลา, เต้ร้อน, กับ...</td>\n",
       "    </tr>\n",
       "    <tr>\n",
       "      <th>2</th>\n",
       "      <td>3</td>\n",
       "      <td>ครัววงเดือน  \\n\\nหิวดึกๆ ตระเวนหาร้านทาน มาเจอ...</td>\n",
       "      <td>[ครัววงเดือน, \\n\\n, หิว, ดึก, ๆ, ตระเวน, หา, ร...</td>\n",
       "    </tr>\n",
       "    <tr>\n",
       "      <th>3</th>\n",
       "      <td>4</td>\n",
       "      <td>จะว่าเป็นเจ้าประจำก็คงไม่ผิด แต่ก็ไม่กล้า...</td>\n",
       "      <td>[จะ, ว่า, เป็น, เจ้า, ประจำ, ก็, คง, ไม่, ผิด,...</td>\n",
       "    </tr>\n",
       "    <tr>\n",
       "      <th>4</th>\n",
       "      <td>5</td>\n",
       "      <td>ถ้าคิดถึงสลัดผมคิดถึงร้านนี้เป็นร้านแรกๆเลยครั...</td>\n",
       "      <td>[ถ้า, คิด, ถึง, สลัด, ผม, คิด, ถึง, ร้าน, นี้,...</td>\n",
       "    </tr>\n",
       "  </tbody>\n",
       "</table>\n",
       "</div>"
      ],
      "text/plain": [
       "   reviewID                                             review  \\\n",
       "0         1       ร้านนี้จะอยู่เส้นสันกำแพง-แม่ออน เลยแยกบ่...   \n",
       "1         2  สั่งไป2 เมนู คือมัชฉะลาเต้ร้อน กับ ไอศครีมชาเข...   \n",
       "2         3  ครัววงเดือน  \\n\\nหิวดึกๆ ตระเวนหาร้านทาน มาเจอ...   \n",
       "3         4       จะว่าเป็นเจ้าประจำก็คงไม่ผิด แต่ก็ไม่กล้า...   \n",
       "4         5  ถ้าคิดถึงสลัดผมคิดถึงร้านนี้เป็นร้านแรกๆเลยครั...   \n",
       "\n",
       "                                     tokenizedReview  \n",
       "0  [ร้าน, นี้, จะ, อยู่, เส้น, สัน, กำแพง, -, แม่...  \n",
       "1  [สั่ง, ไป, 2, เมนู, คือ, มัชฉะลา, เต้ร้อน, กับ...  \n",
       "2  [ครัววงเดือน, \\n\\n, หิว, ดึก, ๆ, ตระเวน, หา, ร...  \n",
       "3  [จะ, ว่า, เป็น, เจ้า, ประจำ, ก็, คง, ไม่, ผิด,...  \n",
       "4  [ถ้า, คิด, ถึง, สลัด, ผม, คิด, ถึง, ร้าน, นี้,...  "
      ]
     },
     "execution_count": 73,
     "metadata": {},
     "output_type": "execute_result"
    }
   ],
   "source": [
    "ts.head()"
   ]
  },
  {
   "cell_type": "markdown",
   "metadata": {},
   "source": [
    "# TF-IDF"
   ]
  },
  {
   "cell_type": "code",
   "execution_count": 74,
   "metadata": {
    "collapsed": true
   },
   "outputs": [],
   "source": [
    "def tokenize(word_list):\n",
    "    return word_list"
   ]
  },
  {
   "cell_type": "code",
   "execution_count": 75,
   "metadata": {
    "collapsed": false
   },
   "outputs": [],
   "source": [
    "from sklearn.feature_extraction.text import TfidfVectorizer\n",
    "\n",
    "vectorizer = TfidfVectorizer(tokenizer=tokenize, lowercase=False)\n",
    "trainTfIdf = vectorizer.fit_transform(tr[\"tokenizedReview\"])\n",
    "testTfIdf = vectorizer.transform(ts[\"tokenizedReview\"])"
   ]
  },
  {
   "cell_type": "code",
   "execution_count": 76,
   "metadata": {
    "collapsed": false
   },
   "outputs": [
    {
     "data": {
      "text/plain": [
       "(40000, 174166)"
      ]
     },
     "execution_count": 76,
     "metadata": {},
     "output_type": "execute_result"
    }
   ],
   "source": [
    "trainTfIdf.shape"
   ]
  },
  {
   "cell_type": "code",
   "execution_count": 77,
   "metadata": {
    "collapsed": false
   },
   "outputs": [
    {
     "data": {
      "text/plain": [
       "(6203, 174166)"
      ]
     },
     "execution_count": 77,
     "metadata": {},
     "output_type": "execute_result"
    }
   ],
   "source": [
    "testTfIdf.shape"
   ]
  },
  {
   "cell_type": "markdown",
   "metadata": {},
   "source": [
    "# SVD "
   ]
  },
  {
   "cell_type": "code",
   "execution_count": 78,
   "metadata": {
    "collapsed": true
   },
   "outputs": [],
   "source": [
    "from sklearn.decomposition import TruncatedSVD\n",
    "\n",
    "svd = TruncatedSVD(n_components=300, n_iter=10, random_state=42)\n",
    "trainFeatures = svd.fit_transform(trainTfIdf)\n",
    "testFeatures = svd.transform(testTfIdf)"
   ]
  },
  {
   "cell_type": "code",
   "execution_count": 79,
   "metadata": {
    "collapsed": false
   },
   "outputs": [],
   "source": [
    "for i in range(300):\n",
    "    tr[\"feature\"+str(i)] = trainFeatures[:,i]\n",
    "    ts[\"feature\"+str(i)] = testFeatures[:,i]"
   ]
  },
  {
   "cell_type": "code",
   "execution_count": 80,
   "metadata": {
    "collapsed": true
   },
   "outputs": [],
   "source": [
    "tr.drop(\"tokenizedReview\", axis=1, inplace=True)\n",
    "ts.drop(\"tokenizedReview\", axis=1, inplace=True)"
   ]
  },
  {
   "cell_type": "code",
   "execution_count": 81,
   "metadata": {
    "collapsed": false
   },
   "outputs": [
    {
     "data": {
      "text/html": [
       "<div>\n",
       "<style>\n",
       "    .dataframe thead tr:only-child th {\n",
       "        text-align: right;\n",
       "    }\n",
       "\n",
       "    .dataframe thead th {\n",
       "        text-align: left;\n",
       "    }\n",
       "\n",
       "    .dataframe tbody tr th {\n",
       "        vertical-align: top;\n",
       "    }\n",
       "</style>\n",
       "<table border=\"1\" class=\"dataframe\">\n",
       "  <thead>\n",
       "    <tr style=\"text-align: right;\">\n",
       "      <th></th>\n",
       "      <th>review</th>\n",
       "      <th>label</th>\n",
       "      <th>feature0</th>\n",
       "      <th>feature1</th>\n",
       "      <th>feature2</th>\n",
       "      <th>feature3</th>\n",
       "      <th>feature4</th>\n",
       "      <th>feature5</th>\n",
       "      <th>feature6</th>\n",
       "      <th>feature7</th>\n",
       "      <th>...</th>\n",
       "      <th>feature290</th>\n",
       "      <th>feature291</th>\n",
       "      <th>feature292</th>\n",
       "      <th>feature293</th>\n",
       "      <th>feature294</th>\n",
       "      <th>feature295</th>\n",
       "      <th>feature296</th>\n",
       "      <th>feature297</th>\n",
       "      <th>feature298</th>\n",
       "      <th>feature299</th>\n",
       "    </tr>\n",
       "  </thead>\n",
       "  <tbody>\n",
       "    <tr>\n",
       "      <th>0</th>\n",
       "      <td>ร้านอาหารใหญ่มากกกกกกก \\nเลี้ยวเข้ามาเจอห้องน้...</td>\n",
       "      <td>3</td>\n",
       "      <td>0.228316</td>\n",
       "      <td>-0.020764</td>\n",
       "      <td>-0.001777</td>\n",
       "      <td>0.100460</td>\n",
       "      <td>-0.017000</td>\n",
       "      <td>-0.035074</td>\n",
       "      <td>0.036856</td>\n",
       "      <td>0.015120</td>\n",
       "      <td>...</td>\n",
       "      <td>-0.001877</td>\n",
       "      <td>0.045393</td>\n",
       "      <td>0.010673</td>\n",
       "      <td>-0.024315</td>\n",
       "      <td>0.011204</td>\n",
       "      <td>0.028232</td>\n",
       "      <td>-0.036892</td>\n",
       "      <td>-0.003593</td>\n",
       "      <td>-0.005051</td>\n",
       "      <td>-0.000360</td>\n",
       "    </tr>\n",
       "    <tr>\n",
       "      <th>1</th>\n",
       "      <td>อาหารที่นี่เป็นอาหารจีนแคะที่หากินยากในบ้านเรา...</td>\n",
       "      <td>4</td>\n",
       "      <td>0.282241</td>\n",
       "      <td>-0.030783</td>\n",
       "      <td>-0.015046</td>\n",
       "      <td>0.039718</td>\n",
       "      <td>0.056262</td>\n",
       "      <td>-0.048687</td>\n",
       "      <td>-0.045608</td>\n",
       "      <td>0.015437</td>\n",
       "      <td>...</td>\n",
       "      <td>-0.016354</td>\n",
       "      <td>-0.020544</td>\n",
       "      <td>0.004761</td>\n",
       "      <td>0.009503</td>\n",
       "      <td>0.004973</td>\n",
       "      <td>-0.017164</td>\n",
       "      <td>-0.025104</td>\n",
       "      <td>-0.023011</td>\n",
       "      <td>0.012646</td>\n",
       "      <td>0.008128</td>\n",
       "    </tr>\n",
       "    <tr>\n",
       "      <th>2</th>\n",
       "      <td>ปอเปี๊ยะสด ทุกวันนี้รู้สึกว่าหากินยาก (ร้านที่...</td>\n",
       "      <td>3</td>\n",
       "      <td>0.286438</td>\n",
       "      <td>-0.032563</td>\n",
       "      <td>0.077864</td>\n",
       "      <td>0.004659</td>\n",
       "      <td>-0.024402</td>\n",
       "      <td>-0.038413</td>\n",
       "      <td>0.025931</td>\n",
       "      <td>0.006893</td>\n",
       "      <td>...</td>\n",
       "      <td>-0.001739</td>\n",
       "      <td>-0.000830</td>\n",
       "      <td>0.019939</td>\n",
       "      <td>-0.001312</td>\n",
       "      <td>-0.004875</td>\n",
       "      <td>-0.032898</td>\n",
       "      <td>0.033292</td>\n",
       "      <td>-0.002587</td>\n",
       "      <td>0.010849</td>\n",
       "      <td>0.020666</td>\n",
       "    </tr>\n",
       "    <tr>\n",
       "      <th>3</th>\n",
       "      <td>รัานคัพเค้กในเมืองไทยมีไม่มาก หลายๆคนอาจจะสงสั...</td>\n",
       "      <td>5</td>\n",
       "      <td>0.305668</td>\n",
       "      <td>-0.038370</td>\n",
       "      <td>0.133797</td>\n",
       "      <td>-0.122579</td>\n",
       "      <td>-0.032065</td>\n",
       "      <td>0.056910</td>\n",
       "      <td>0.039012</td>\n",
       "      <td>0.006311</td>\n",
       "      <td>...</td>\n",
       "      <td>-0.006993</td>\n",
       "      <td>-0.014081</td>\n",
       "      <td>-0.005929</td>\n",
       "      <td>0.036032</td>\n",
       "      <td>0.038386</td>\n",
       "      <td>-0.010596</td>\n",
       "      <td>-0.009205</td>\n",
       "      <td>0.002710</td>\n",
       "      <td>-0.004149</td>\n",
       "      <td>0.023743</td>\n",
       "    </tr>\n",
       "    <tr>\n",
       "      <th>4</th>\n",
       "      <td>อร่อย!!! เดินผ่านDigital gatewayทุกวัน ไม่ยักร...</td>\n",
       "      <td>5</td>\n",
       "      <td>0.236577</td>\n",
       "      <td>-0.020143</td>\n",
       "      <td>0.056803</td>\n",
       "      <td>-0.028959</td>\n",
       "      <td>-0.089624</td>\n",
       "      <td>0.023258</td>\n",
       "      <td>0.090730</td>\n",
       "      <td>0.012758</td>\n",
       "      <td>...</td>\n",
       "      <td>0.034450</td>\n",
       "      <td>0.000526</td>\n",
       "      <td>0.023553</td>\n",
       "      <td>0.022396</td>\n",
       "      <td>0.017152</td>\n",
       "      <td>-0.013019</td>\n",
       "      <td>-0.015032</td>\n",
       "      <td>0.016329</td>\n",
       "      <td>-0.014475</td>\n",
       "      <td>0.021125</td>\n",
       "    </tr>\n",
       "  </tbody>\n",
       "</table>\n",
       "<p>5 rows × 302 columns</p>\n",
       "</div>"
      ],
      "text/plain": [
       "                                              review  label  feature0  \\\n",
       "0  ร้านอาหารใหญ่มากกกกกกก \\nเลี้ยวเข้ามาเจอห้องน้...      3  0.228316   \n",
       "1  อาหารที่นี่เป็นอาหารจีนแคะที่หากินยากในบ้านเรา...      4  0.282241   \n",
       "2  ปอเปี๊ยะสด ทุกวันนี้รู้สึกว่าหากินยาก (ร้านที่...      3  0.286438   \n",
       "3  รัานคัพเค้กในเมืองไทยมีไม่มาก หลายๆคนอาจจะสงสั...      5  0.305668   \n",
       "4  อร่อย!!! เดินผ่านDigital gatewayทุกวัน ไม่ยักร...      5  0.236577   \n",
       "\n",
       "   feature1  feature2  feature3  feature4  feature5  feature6  feature7  \\\n",
       "0 -0.020764 -0.001777  0.100460 -0.017000 -0.035074  0.036856  0.015120   \n",
       "1 -0.030783 -0.015046  0.039718  0.056262 -0.048687 -0.045608  0.015437   \n",
       "2 -0.032563  0.077864  0.004659 -0.024402 -0.038413  0.025931  0.006893   \n",
       "3 -0.038370  0.133797 -0.122579 -0.032065  0.056910  0.039012  0.006311   \n",
       "4 -0.020143  0.056803 -0.028959 -0.089624  0.023258  0.090730  0.012758   \n",
       "\n",
       "      ...      feature290  feature291  feature292  feature293  feature294  \\\n",
       "0     ...       -0.001877    0.045393    0.010673   -0.024315    0.011204   \n",
       "1     ...       -0.016354   -0.020544    0.004761    0.009503    0.004973   \n",
       "2     ...       -0.001739   -0.000830    0.019939   -0.001312   -0.004875   \n",
       "3     ...       -0.006993   -0.014081   -0.005929    0.036032    0.038386   \n",
       "4     ...        0.034450    0.000526    0.023553    0.022396    0.017152   \n",
       "\n",
       "   feature295  feature296  feature297  feature298  feature299  \n",
       "0    0.028232   -0.036892   -0.003593   -0.005051   -0.000360  \n",
       "1   -0.017164   -0.025104   -0.023011    0.012646    0.008128  \n",
       "2   -0.032898    0.033292   -0.002587    0.010849    0.020666  \n",
       "3   -0.010596   -0.009205    0.002710   -0.004149    0.023743  \n",
       "4   -0.013019   -0.015032    0.016329   -0.014475    0.021125  \n",
       "\n",
       "[5 rows x 302 columns]"
      ]
     },
     "execution_count": 81,
     "metadata": {},
     "output_type": "execute_result"
    }
   ],
   "source": [
    "tr.head()"
   ]
  },
  {
   "cell_type": "code",
   "execution_count": 82,
   "metadata": {
    "collapsed": false
   },
   "outputs": [
    {
     "data": {
      "text/html": [
       "<div>\n",
       "<style>\n",
       "    .dataframe thead tr:only-child th {\n",
       "        text-align: right;\n",
       "    }\n",
       "\n",
       "    .dataframe thead th {\n",
       "        text-align: left;\n",
       "    }\n",
       "\n",
       "    .dataframe tbody tr th {\n",
       "        vertical-align: top;\n",
       "    }\n",
       "</style>\n",
       "<table border=\"1\" class=\"dataframe\">\n",
       "  <thead>\n",
       "    <tr style=\"text-align: right;\">\n",
       "      <th></th>\n",
       "      <th>reviewID</th>\n",
       "      <th>review</th>\n",
       "      <th>feature0</th>\n",
       "      <th>feature1</th>\n",
       "      <th>feature2</th>\n",
       "      <th>feature3</th>\n",
       "      <th>feature4</th>\n",
       "      <th>feature5</th>\n",
       "      <th>feature6</th>\n",
       "      <th>feature7</th>\n",
       "      <th>...</th>\n",
       "      <th>feature290</th>\n",
       "      <th>feature291</th>\n",
       "      <th>feature292</th>\n",
       "      <th>feature293</th>\n",
       "      <th>feature294</th>\n",
       "      <th>feature295</th>\n",
       "      <th>feature296</th>\n",
       "      <th>feature297</th>\n",
       "      <th>feature298</th>\n",
       "      <th>feature299</th>\n",
       "    </tr>\n",
       "  </thead>\n",
       "  <tbody>\n",
       "    <tr>\n",
       "      <th>0</th>\n",
       "      <td>1</td>\n",
       "      <td>ร้านนี้จะอยู่เส้นสันกำแพง-แม่ออน เลยแยกบ่...</td>\n",
       "      <td>0.360498</td>\n",
       "      <td>0.581334</td>\n",
       "      <td>0.014321</td>\n",
       "      <td>-0.005751</td>\n",
       "      <td>-0.010322</td>\n",
       "      <td>-0.031789</td>\n",
       "      <td>-0.019707</td>\n",
       "      <td>0.036583</td>\n",
       "      <td>...</td>\n",
       "      <td>-0.003845</td>\n",
       "      <td>-0.018055</td>\n",
       "      <td>-0.019899</td>\n",
       "      <td>-0.015334</td>\n",
       "      <td>-0.017138</td>\n",
       "      <td>0.001517</td>\n",
       "      <td>-0.011955</td>\n",
       "      <td>0.015323</td>\n",
       "      <td>-0.004450</td>\n",
       "      <td>-0.005399</td>\n",
       "    </tr>\n",
       "    <tr>\n",
       "      <th>1</th>\n",
       "      <td>2</td>\n",
       "      <td>สั่งไป2 เมนู คือมัชฉะลาเต้ร้อน กับ ไอศครีมชาเข...</td>\n",
       "      <td>0.151875</td>\n",
       "      <td>-0.014623</td>\n",
       "      <td>-0.009261</td>\n",
       "      <td>0.030889</td>\n",
       "      <td>-0.034241</td>\n",
       "      <td>-0.017381</td>\n",
       "      <td>0.031627</td>\n",
       "      <td>0.025571</td>\n",
       "      <td>...</td>\n",
       "      <td>-0.008337</td>\n",
       "      <td>0.010086</td>\n",
       "      <td>-0.019927</td>\n",
       "      <td>0.028766</td>\n",
       "      <td>-0.002063</td>\n",
       "      <td>0.022431</td>\n",
       "      <td>0.026762</td>\n",
       "      <td>0.004502</td>\n",
       "      <td>0.004664</td>\n",
       "      <td>0.007936</td>\n",
       "    </tr>\n",
       "    <tr>\n",
       "      <th>2</th>\n",
       "      <td>3</td>\n",
       "      <td>ครัววงเดือน  \\n\\nหิวดึกๆ ตระเวนหาร้านทาน มาเจอ...</td>\n",
       "      <td>0.313768</td>\n",
       "      <td>-0.025867</td>\n",
       "      <td>0.121377</td>\n",
       "      <td>0.146950</td>\n",
       "      <td>0.185460</td>\n",
       "      <td>0.069842</td>\n",
       "      <td>0.180548</td>\n",
       "      <td>-0.000253</td>\n",
       "      <td>...</td>\n",
       "      <td>0.009490</td>\n",
       "      <td>-0.039535</td>\n",
       "      <td>0.015618</td>\n",
       "      <td>-0.003521</td>\n",
       "      <td>0.002281</td>\n",
       "      <td>0.017251</td>\n",
       "      <td>0.034164</td>\n",
       "      <td>0.022599</td>\n",
       "      <td>0.032634</td>\n",
       "      <td>-0.019891</td>\n",
       "    </tr>\n",
       "    <tr>\n",
       "      <th>3</th>\n",
       "      <td>4</td>\n",
       "      <td>จะว่าเป็นเจ้าประจำก็คงไม่ผิด แต่ก็ไม่กล้า...</td>\n",
       "      <td>0.504221</td>\n",
       "      <td>-0.056977</td>\n",
       "      <td>0.123702</td>\n",
       "      <td>-0.008073</td>\n",
       "      <td>0.014924</td>\n",
       "      <td>-0.017910</td>\n",
       "      <td>0.086983</td>\n",
       "      <td>0.015646</td>\n",
       "      <td>...</td>\n",
       "      <td>-0.019678</td>\n",
       "      <td>-0.001157</td>\n",
       "      <td>0.007564</td>\n",
       "      <td>-0.021686</td>\n",
       "      <td>-0.028359</td>\n",
       "      <td>-0.011787</td>\n",
       "      <td>-0.006296</td>\n",
       "      <td>-0.033636</td>\n",
       "      <td>-0.039594</td>\n",
       "      <td>-0.025813</td>\n",
       "    </tr>\n",
       "    <tr>\n",
       "      <th>4</th>\n",
       "      <td>5</td>\n",
       "      <td>ถ้าคิดถึงสลัดผมคิดถึงร้านนี้เป็นร้านแรกๆเลยครั...</td>\n",
       "      <td>0.349388</td>\n",
       "      <td>-0.045990</td>\n",
       "      <td>0.209231</td>\n",
       "      <td>-0.088705</td>\n",
       "      <td>-0.087864</td>\n",
       "      <td>0.111806</td>\n",
       "      <td>0.017050</td>\n",
       "      <td>0.014967</td>\n",
       "      <td>...</td>\n",
       "      <td>-0.022208</td>\n",
       "      <td>-0.005811</td>\n",
       "      <td>0.006725</td>\n",
       "      <td>-0.004669</td>\n",
       "      <td>-0.021049</td>\n",
       "      <td>0.012265</td>\n",
       "      <td>-0.017928</td>\n",
       "      <td>0.001451</td>\n",
       "      <td>0.013642</td>\n",
       "      <td>-0.008648</td>\n",
       "    </tr>\n",
       "  </tbody>\n",
       "</table>\n",
       "<p>5 rows × 302 columns</p>\n",
       "</div>"
      ],
      "text/plain": [
       "   reviewID                                             review  feature0  \\\n",
       "0         1       ร้านนี้จะอยู่เส้นสันกำแพง-แม่ออน เลยแยกบ่...  0.360498   \n",
       "1         2  สั่งไป2 เมนู คือมัชฉะลาเต้ร้อน กับ ไอศครีมชาเข...  0.151875   \n",
       "2         3  ครัววงเดือน  \\n\\nหิวดึกๆ ตระเวนหาร้านทาน มาเจอ...  0.313768   \n",
       "3         4       จะว่าเป็นเจ้าประจำก็คงไม่ผิด แต่ก็ไม่กล้า...  0.504221   \n",
       "4         5  ถ้าคิดถึงสลัดผมคิดถึงร้านนี้เป็นร้านแรกๆเลยครั...  0.349388   \n",
       "\n",
       "   feature1  feature2  feature3  feature4  feature5  feature6  feature7  \\\n",
       "0  0.581334  0.014321 -0.005751 -0.010322 -0.031789 -0.019707  0.036583   \n",
       "1 -0.014623 -0.009261  0.030889 -0.034241 -0.017381  0.031627  0.025571   \n",
       "2 -0.025867  0.121377  0.146950  0.185460  0.069842  0.180548 -0.000253   \n",
       "3 -0.056977  0.123702 -0.008073  0.014924 -0.017910  0.086983  0.015646   \n",
       "4 -0.045990  0.209231 -0.088705 -0.087864  0.111806  0.017050  0.014967   \n",
       "\n",
       "      ...      feature290  feature291  feature292  feature293  feature294  \\\n",
       "0     ...       -0.003845   -0.018055   -0.019899   -0.015334   -0.017138   \n",
       "1     ...       -0.008337    0.010086   -0.019927    0.028766   -0.002063   \n",
       "2     ...        0.009490   -0.039535    0.015618   -0.003521    0.002281   \n",
       "3     ...       -0.019678   -0.001157    0.007564   -0.021686   -0.028359   \n",
       "4     ...       -0.022208   -0.005811    0.006725   -0.004669   -0.021049   \n",
       "\n",
       "   feature295  feature296  feature297  feature298  feature299  \n",
       "0    0.001517   -0.011955    0.015323   -0.004450   -0.005399  \n",
       "1    0.022431    0.026762    0.004502    0.004664    0.007936  \n",
       "2    0.017251    0.034164    0.022599    0.032634   -0.019891  \n",
       "3   -0.011787   -0.006296   -0.033636   -0.039594   -0.025813  \n",
       "4    0.012265   -0.017928    0.001451    0.013642   -0.008648  \n",
       "\n",
       "[5 rows x 302 columns]"
      ]
     },
     "execution_count": 82,
     "metadata": {},
     "output_type": "execute_result"
    }
   ],
   "source": [
    "ts.head()"
   ]
  },
  {
   "cell_type": "code",
   "execution_count": 83,
   "metadata": {
    "collapsed": true
   },
   "outputs": [],
   "source": [
    "tr.to_csv('../data/train_with_feature.csv', index=False)\n",
    "ts.to_csv('../data/test_with_feature.csv', index=False)"
   ]
  },
  {
   "cell_type": "code",
   "execution_count": null,
   "metadata": {
    "collapsed": true
   },
   "outputs": [],
   "source": []
  }
 ],
 "metadata": {
  "kernelspec": {
   "display_name": "Python 3",
   "language": "python",
   "name": "python3"
  },
  "language_info": {
   "codemirror_mode": {
    "name": "ipython",
    "version": 3
   },
   "file_extension": ".py",
   "mimetype": "text/x-python",
   "name": "python",
   "nbconvert_exporter": "python",
   "pygments_lexer": "ipython3",
   "version": "3.5.2"
  }
 },
 "nbformat": 4,
 "nbformat_minor": 0
}
