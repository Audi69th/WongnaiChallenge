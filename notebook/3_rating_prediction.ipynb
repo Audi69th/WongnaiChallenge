{
 "cells": [
  {
   "cell_type": "code",
   "execution_count": 1,
   "metadata": {
    "collapsed": true
   },
   "outputs": [],
   "source": [
    "import os\n",
    "import pandas as pd\n",
    "import numpy as np\n",
    "import matplotlib.pyplot as plt\n",
    "%matplotlib inline"
   ]
  },
  {
   "cell_type": "markdown",
   "metadata": {},
   "source": [
    "# Prepare Data"
   ]
  },
  {
   "cell_type": "code",
   "execution_count": 2,
   "metadata": {
    "collapsed": true
   },
   "outputs": [],
   "source": [
    "tr = pd.read_csv(\"../data/train_with_feature.csv\")\n",
    "ts = pd.read_csv(\"../data/test_with_feature.csv\")"
   ]
  },
  {
   "cell_type": "code",
   "execution_count": 3,
   "metadata": {
    "collapsed": false
   },
   "outputs": [
    {
     "data": {
      "text/html": [
       "<div>\n",
       "<style>\n",
       "    .dataframe thead tr:only-child th {\n",
       "        text-align: right;\n",
       "    }\n",
       "\n",
       "    .dataframe thead th {\n",
       "        text-align: left;\n",
       "    }\n",
       "\n",
       "    .dataframe tbody tr th {\n",
       "        vertical-align: top;\n",
       "    }\n",
       "</style>\n",
       "<table border=\"1\" class=\"dataframe\">\n",
       "  <thead>\n",
       "    <tr style=\"text-align: right;\">\n",
       "      <th></th>\n",
       "      <th>review</th>\n",
       "      <th>label</th>\n",
       "      <th>feature0</th>\n",
       "      <th>feature1</th>\n",
       "      <th>feature2</th>\n",
       "      <th>feature3</th>\n",
       "      <th>feature4</th>\n",
       "      <th>feature5</th>\n",
       "      <th>feature6</th>\n",
       "      <th>feature7</th>\n",
       "      <th>...</th>\n",
       "      <th>feature290</th>\n",
       "      <th>feature291</th>\n",
       "      <th>feature292</th>\n",
       "      <th>feature293</th>\n",
       "      <th>feature294</th>\n",
       "      <th>feature295</th>\n",
       "      <th>feature296</th>\n",
       "      <th>feature297</th>\n",
       "      <th>feature298</th>\n",
       "      <th>feature299</th>\n",
       "    </tr>\n",
       "  </thead>\n",
       "  <tbody>\n",
       "    <tr>\n",
       "      <th>0</th>\n",
       "      <td>ร้านอาหารใหญ่มากกกกกกก \\nเลี้ยวเข้ามาเจอห้องน้...</td>\n",
       "      <td>3</td>\n",
       "      <td>0.228316</td>\n",
       "      <td>-0.020764</td>\n",
       "      <td>-0.001777</td>\n",
       "      <td>0.100460</td>\n",
       "      <td>-0.017000</td>\n",
       "      <td>-0.035074</td>\n",
       "      <td>0.036856</td>\n",
       "      <td>0.015120</td>\n",
       "      <td>...</td>\n",
       "      <td>-0.001877</td>\n",
       "      <td>0.045393</td>\n",
       "      <td>0.010673</td>\n",
       "      <td>-0.024315</td>\n",
       "      <td>0.011204</td>\n",
       "      <td>0.028232</td>\n",
       "      <td>-0.036892</td>\n",
       "      <td>-0.003593</td>\n",
       "      <td>-0.005051</td>\n",
       "      <td>-0.000360</td>\n",
       "    </tr>\n",
       "    <tr>\n",
       "      <th>1</th>\n",
       "      <td>อาหารที่นี่เป็นอาหารจีนแคะที่หากินยากในบ้านเรา...</td>\n",
       "      <td>4</td>\n",
       "      <td>0.282241</td>\n",
       "      <td>-0.030783</td>\n",
       "      <td>-0.015046</td>\n",
       "      <td>0.039718</td>\n",
       "      <td>0.056262</td>\n",
       "      <td>-0.048687</td>\n",
       "      <td>-0.045608</td>\n",
       "      <td>0.015437</td>\n",
       "      <td>...</td>\n",
       "      <td>-0.016354</td>\n",
       "      <td>-0.020544</td>\n",
       "      <td>0.004761</td>\n",
       "      <td>0.009503</td>\n",
       "      <td>0.004973</td>\n",
       "      <td>-0.017164</td>\n",
       "      <td>-0.025104</td>\n",
       "      <td>-0.023011</td>\n",
       "      <td>0.012646</td>\n",
       "      <td>0.008128</td>\n",
       "    </tr>\n",
       "    <tr>\n",
       "      <th>2</th>\n",
       "      <td>ปอเปี๊ยะสด ทุกวันนี้รู้สึกว่าหากินยาก (ร้านที่...</td>\n",
       "      <td>3</td>\n",
       "      <td>0.286438</td>\n",
       "      <td>-0.032563</td>\n",
       "      <td>0.077864</td>\n",
       "      <td>0.004659</td>\n",
       "      <td>-0.024402</td>\n",
       "      <td>-0.038413</td>\n",
       "      <td>0.025931</td>\n",
       "      <td>0.006893</td>\n",
       "      <td>...</td>\n",
       "      <td>-0.001739</td>\n",
       "      <td>-0.000830</td>\n",
       "      <td>0.019939</td>\n",
       "      <td>-0.001312</td>\n",
       "      <td>-0.004875</td>\n",
       "      <td>-0.032898</td>\n",
       "      <td>0.033292</td>\n",
       "      <td>-0.002587</td>\n",
       "      <td>0.010849</td>\n",
       "      <td>0.020666</td>\n",
       "    </tr>\n",
       "  </tbody>\n",
       "</table>\n",
       "<p>3 rows × 302 columns</p>\n",
       "</div>"
      ],
      "text/plain": [
       "                                              review  label  feature0  \\\n",
       "0  ร้านอาหารใหญ่มากกกกกกก \\nเลี้ยวเข้ามาเจอห้องน้...      3  0.228316   \n",
       "1  อาหารที่นี่เป็นอาหารจีนแคะที่หากินยากในบ้านเรา...      4  0.282241   \n",
       "2  ปอเปี๊ยะสด ทุกวันนี้รู้สึกว่าหากินยาก (ร้านที่...      3  0.286438   \n",
       "\n",
       "   feature1  feature2  feature3  feature4  feature5  feature6  feature7  \\\n",
       "0 -0.020764 -0.001777  0.100460 -0.017000 -0.035074  0.036856  0.015120   \n",
       "1 -0.030783 -0.015046  0.039718  0.056262 -0.048687 -0.045608  0.015437   \n",
       "2 -0.032563  0.077864  0.004659 -0.024402 -0.038413  0.025931  0.006893   \n",
       "\n",
       "      ...      feature290  feature291  feature292  feature293  feature294  \\\n",
       "0     ...       -0.001877    0.045393    0.010673   -0.024315    0.011204   \n",
       "1     ...       -0.016354   -0.020544    0.004761    0.009503    0.004973   \n",
       "2     ...       -0.001739   -0.000830    0.019939   -0.001312   -0.004875   \n",
       "\n",
       "   feature295  feature296  feature297  feature298  feature299  \n",
       "0    0.028232   -0.036892   -0.003593   -0.005051   -0.000360  \n",
       "1   -0.017164   -0.025104   -0.023011    0.012646    0.008128  \n",
       "2   -0.032898    0.033292   -0.002587    0.010849    0.020666  \n",
       "\n",
       "[3 rows x 302 columns]"
      ]
     },
     "execution_count": 3,
     "metadata": {},
     "output_type": "execute_result"
    }
   ],
   "source": [
    "tr.head(3)"
   ]
  },
  {
   "cell_type": "code",
   "execution_count": 4,
   "metadata": {
    "collapsed": false
   },
   "outputs": [
    {
     "data": {
      "text/html": [
       "<div>\n",
       "<style>\n",
       "    .dataframe thead tr:only-child th {\n",
       "        text-align: right;\n",
       "    }\n",
       "\n",
       "    .dataframe thead th {\n",
       "        text-align: left;\n",
       "    }\n",
       "\n",
       "    .dataframe tbody tr th {\n",
       "        vertical-align: top;\n",
       "    }\n",
       "</style>\n",
       "<table border=\"1\" class=\"dataframe\">\n",
       "  <thead>\n",
       "    <tr style=\"text-align: right;\">\n",
       "      <th></th>\n",
       "      <th>reviewID</th>\n",
       "      <th>review</th>\n",
       "      <th>feature0</th>\n",
       "      <th>feature1</th>\n",
       "      <th>feature2</th>\n",
       "      <th>feature3</th>\n",
       "      <th>feature4</th>\n",
       "      <th>feature5</th>\n",
       "      <th>feature6</th>\n",
       "      <th>feature7</th>\n",
       "      <th>...</th>\n",
       "      <th>feature290</th>\n",
       "      <th>feature291</th>\n",
       "      <th>feature292</th>\n",
       "      <th>feature293</th>\n",
       "      <th>feature294</th>\n",
       "      <th>feature295</th>\n",
       "      <th>feature296</th>\n",
       "      <th>feature297</th>\n",
       "      <th>feature298</th>\n",
       "      <th>feature299</th>\n",
       "    </tr>\n",
       "  </thead>\n",
       "  <tbody>\n",
       "    <tr>\n",
       "      <th>0</th>\n",
       "      <td>1</td>\n",
       "      <td>ร้านนี้จะอยู่เส้นสันกำแพง-แม่ออน เลยแยกบ่...</td>\n",
       "      <td>0.360498</td>\n",
       "      <td>0.581334</td>\n",
       "      <td>0.014321</td>\n",
       "      <td>-0.005751</td>\n",
       "      <td>-0.010322</td>\n",
       "      <td>-0.031789</td>\n",
       "      <td>-0.019707</td>\n",
       "      <td>0.036583</td>\n",
       "      <td>...</td>\n",
       "      <td>-0.003845</td>\n",
       "      <td>-0.018055</td>\n",
       "      <td>-0.019899</td>\n",
       "      <td>-0.015334</td>\n",
       "      <td>-0.017138</td>\n",
       "      <td>0.001517</td>\n",
       "      <td>-0.011955</td>\n",
       "      <td>0.015323</td>\n",
       "      <td>-0.004450</td>\n",
       "      <td>-0.005399</td>\n",
       "    </tr>\n",
       "    <tr>\n",
       "      <th>1</th>\n",
       "      <td>2</td>\n",
       "      <td>สั่งไป2 เมนู คือมัชฉะลาเต้ร้อน กับ ไอศครีมชาเข...</td>\n",
       "      <td>0.151875</td>\n",
       "      <td>-0.014623</td>\n",
       "      <td>-0.009261</td>\n",
       "      <td>0.030889</td>\n",
       "      <td>-0.034241</td>\n",
       "      <td>-0.017381</td>\n",
       "      <td>0.031627</td>\n",
       "      <td>0.025571</td>\n",
       "      <td>...</td>\n",
       "      <td>-0.008337</td>\n",
       "      <td>0.010086</td>\n",
       "      <td>-0.019927</td>\n",
       "      <td>0.028766</td>\n",
       "      <td>-0.002063</td>\n",
       "      <td>0.022431</td>\n",
       "      <td>0.026762</td>\n",
       "      <td>0.004502</td>\n",
       "      <td>0.004664</td>\n",
       "      <td>0.007936</td>\n",
       "    </tr>\n",
       "    <tr>\n",
       "      <th>2</th>\n",
       "      <td>3</td>\n",
       "      <td>ครัววงเดือน  \\n\\nหิวดึกๆ ตระเวนหาร้านทาน มาเจอ...</td>\n",
       "      <td>0.313768</td>\n",
       "      <td>-0.025867</td>\n",
       "      <td>0.121377</td>\n",
       "      <td>0.146950</td>\n",
       "      <td>0.185460</td>\n",
       "      <td>0.069842</td>\n",
       "      <td>0.180548</td>\n",
       "      <td>-0.000253</td>\n",
       "      <td>...</td>\n",
       "      <td>0.009490</td>\n",
       "      <td>-0.039535</td>\n",
       "      <td>0.015618</td>\n",
       "      <td>-0.003521</td>\n",
       "      <td>0.002281</td>\n",
       "      <td>0.017251</td>\n",
       "      <td>0.034164</td>\n",
       "      <td>0.022599</td>\n",
       "      <td>0.032634</td>\n",
       "      <td>-0.019891</td>\n",
       "    </tr>\n",
       "  </tbody>\n",
       "</table>\n",
       "<p>3 rows × 302 columns</p>\n",
       "</div>"
      ],
      "text/plain": [
       "   reviewID                                             review  feature0  \\\n",
       "0         1       ร้านนี้จะอยู่เส้นสันกำแพง-แม่ออน เลยแยกบ่...  0.360498   \n",
       "1         2  สั่งไป2 เมนู คือมัชฉะลาเต้ร้อน กับ ไอศครีมชาเข...  0.151875   \n",
       "2         3  ครัววงเดือน  \\n\\nหิวดึกๆ ตระเวนหาร้านทาน มาเจอ...  0.313768   \n",
       "\n",
       "   feature1  feature2  feature3  feature4  feature5  feature6  feature7  \\\n",
       "0  0.581334  0.014321 -0.005751 -0.010322 -0.031789 -0.019707  0.036583   \n",
       "1 -0.014623 -0.009261  0.030889 -0.034241 -0.017381  0.031627  0.025571   \n",
       "2 -0.025867  0.121377  0.146950  0.185460  0.069842  0.180548 -0.000253   \n",
       "\n",
       "      ...      feature290  feature291  feature292  feature293  feature294  \\\n",
       "0     ...       -0.003845   -0.018055   -0.019899   -0.015334   -0.017138   \n",
       "1     ...       -0.008337    0.010086   -0.019927    0.028766   -0.002063   \n",
       "2     ...        0.009490   -0.039535    0.015618   -0.003521    0.002281   \n",
       "\n",
       "   feature295  feature296  feature297  feature298  feature299  \n",
       "0    0.001517   -0.011955    0.015323   -0.004450   -0.005399  \n",
       "1    0.022431    0.026762    0.004502    0.004664    0.007936  \n",
       "2    0.017251    0.034164    0.022599    0.032634   -0.019891  \n",
       "\n",
       "[3 rows x 302 columns]"
      ]
     },
     "execution_count": 4,
     "metadata": {},
     "output_type": "execute_result"
    }
   ],
   "source": [
    "ts.head(3)"
   ]
  },
  {
   "cell_type": "code",
   "execution_count": 5,
   "metadata": {
    "collapsed": false
   },
   "outputs": [
    {
     "name": "stdout",
     "output_type": "stream",
     "text": [
      "Training data shape                  : (36000, 300)\n",
      "Training data labels shape           : (36000,)\n",
      "Training data labels one hot shape   : (36000, 5)\n",
      "Validation data shape                : (4000, 300)\n",
      "Validation data labels shape         : (4000,)\n",
      "Validation data labels one hot shape : (4000, 5)\n",
      "Test data shape                      : (6203, 300)\n"
     ]
    }
   ],
   "source": [
    "split = int(tr.shape[0]*9/10)\n",
    "features = [\"feature\"+str(i) for i in range(300)]\n",
    "x_train = tr[features][:split].as_matrix()\n",
    "y_train = tr[\"label\"][:split].as_matrix()\n",
    "y_train_one_hot = pd.get_dummies(tr[\"label\"][:split]).as_matrix()\n",
    "x_val = tr[features][split:].as_matrix()\n",
    "y_val = tr[\"label\"][split:].as_matrix()\n",
    "y_val_one_hot = pd.get_dummies(tr[\"label\"][split:]).as_matrix()\n",
    "x_test = ts[features].as_matrix()\n",
    "\n",
    "print('Training data shape                  :', x_train.shape)\n",
    "print('Training data labels shape           :', y_train.shape)\n",
    "print('Training data labels one hot shape   :', y_train_one_hot.shape)\n",
    "print('Validation data shape                :', x_val.shape)\n",
    "print('Validation data labels shape         :', y_val.shape)\n",
    "print('Validation data labels one hot shape :', y_val_one_hot.shape)\n",
    "print('Test data shape                      :', x_test.shape)"
   ]
  },
  {
   "cell_type": "markdown",
   "metadata": {},
   "source": [
    "# Feedforward Nueral Network - Regression"
   ]
  },
  {
   "cell_type": "code",
   "execution_count": 116,
   "metadata": {
    "collapsed": false
   },
   "outputs": [],
   "source": [
    "from keras.models import Model\n",
    "from keras.layers import Input, Dense, Dropout\n",
    "from keras.optimizers import Adam\n",
    "\n",
    "def get_nn_regression():\n",
    "    input1 = Input(shape=(300,))\n",
    "    x = Dense(100, activation='relu')(input1)\n",
    "    x = Dropout(0.5)(x)\n",
    "    x = Dense(10, activation='relu')(x)\n",
    "    x = Dropout(0.1)(x)\n",
    "    out = Dense(1, activation='relu')(x)\n",
    "    model = Model(inputs=input1, outputs=out)\n",
    "    model.compile(optimizer=Adam(), loss='mean_squared_error', metrics=['acc'])\n",
    "    return model"
   ]
  },
  {
   "cell_type": "code",
   "execution_count": 117,
   "metadata": {
    "collapsed": false
   },
   "outputs": [
    {
     "name": "stdout",
     "output_type": "stream",
     "text": [
      "start training\n",
      "train with 20 epochs and 32 batch size\n",
      "Train on 36000 samples, validate on 4000 samples\n",
      "Epoch 1/20\n",
      "36000/36000 [==============================] - 4s - loss: 2.0316 - acc: 0.3373 - val_loss: 0.5439 - val_acc: 0.5115\n",
      "Epoch 2/20\n",
      "36000/36000 [==============================] - 4s - loss: 0.9625 - acc: 0.3958 - val_loss: 0.5103 - val_acc: 0.5260\n",
      "Epoch 3/20\n",
      "36000/36000 [==============================] - 4s - loss: 0.8603 - acc: 0.4202 - val_loss: 0.5270 - val_acc: 0.5175\n",
      "Epoch 4/20\n",
      "36000/36000 [==============================] - 4s - loss: 0.7546 - acc: 0.4445 - val_loss: 0.5032 - val_acc: 0.5298\n",
      "Epoch 5/20\n",
      "36000/36000 [==============================] - 4s - loss: 0.6529 - acc: 0.4716 - val_loss: 0.5042 - val_acc: 0.5240\n",
      "Epoch 6/20\n",
      "36000/36000 [==============================] - 4s - loss: 0.5988 - acc: 0.4892 - val_loss: 0.4876 - val_acc: 0.5340\n",
      "Epoch 7/20\n",
      "36000/36000 [==============================] - 4s - loss: 0.5633 - acc: 0.5000 - val_loss: 0.4979 - val_acc: 0.5288\n",
      "Epoch 8/20\n",
      "36000/36000 [==============================] - 4s - loss: 0.5389 - acc: 0.5076 - val_loss: 0.4817 - val_acc: 0.5387\n",
      "Epoch 9/20\n",
      "36000/36000 [==============================] - 4s - loss: 0.5238 - acc: 0.5172 - val_loss: 0.4799 - val_acc: 0.5405\n",
      "Epoch 10/20\n",
      "36000/36000 [==============================] - 4s - loss: 0.5041 - acc: 0.5277 - val_loss: 0.4793 - val_acc: 0.5405\n",
      "Epoch 11/20\n",
      "36000/36000 [==============================] - 4s - loss: 0.4912 - acc: 0.5341 - val_loss: 0.4729 - val_acc: 0.5420\n",
      "Epoch 12/20\n",
      "36000/36000 [==============================] - 4s - loss: 0.4795 - acc: 0.5414 - val_loss: 0.4744 - val_acc: 0.5397\n",
      "Epoch 13/20\n",
      "36000/36000 [==============================] - 4s - loss: 0.4678 - acc: 0.5441 - val_loss: 0.4750 - val_acc: 0.5407\n",
      "Epoch 14/20\n",
      "36000/36000 [==============================] - 4s - loss: 0.4609 - acc: 0.5497 - val_loss: 0.4806 - val_acc: 0.5363\n",
      "Epoch 15/20\n",
      "36000/36000 [==============================] - 4s - loss: 0.4500 - acc: 0.5549 - val_loss: 0.4716 - val_acc: 0.5483\n",
      "Epoch 16/20\n",
      "36000/36000 [==============================] - 4s - loss: 0.4428 - acc: 0.5603 - val_loss: 0.4735 - val_acc: 0.5475\n",
      "Epoch 17/20\n",
      "36000/36000 [==============================] - 4s - loss: 0.4346 - acc: 0.5607 - val_loss: 0.4734 - val_acc: 0.5467\n",
      "Epoch 18/20\n",
      "36000/36000 [==============================] - 4s - loss: 0.4279 - acc: 0.5669 - val_loss: 0.4757 - val_acc: 0.5383\n",
      "Epoch 19/20\n",
      "36000/36000 [==============================] - 4s - loss: 0.4275 - acc: 0.5678 - val_loss: 0.4798 - val_acc: 0.5423\n",
      "Epoch 20/20\n",
      "36000/36000 [==============================] - 4s - loss: 0.4168 - acc: 0.5694 - val_loss: 0.4760 - val_acc: 0.5467\n"
     ]
    }
   ],
   "source": [
    "from keras import backend as K\n",
    "K.clear_session()\n",
    "\n",
    "print('start training')\n",
    "verbose = 1\n",
    "model_nn_regression = get_nn_regression()\n",
    "\n",
    "train_params = [(20, 32)]\n",
    "for (epochs, batch_size) in train_params:\n",
    "    print(\"train with {} epochs and {} batch size\".format(epochs, batch_size))\n",
    "    model_nn_regression.fit(x_train, y_train, epochs=epochs, batch_size=batch_size, verbose=verbose,\n",
    "                           validation_data=(x_val, y_val))"
   ]
  },
  {
   "cell_type": "markdown",
   "metadata": {},
   "source": [
    "#### Calculate F1 score on Validation Data"
   ]
  },
  {
   "cell_type": "code",
   "execution_count": 118,
   "metadata": {
    "collapsed": false
   },
   "outputs": [
    {
     "data": {
      "text/plain": [
       "0.54674999999999996"
      ]
     },
     "execution_count": 118,
     "metadata": {},
     "output_type": "execute_result"
    }
   ],
   "source": [
    "from sklearn.metrics import f1_score\n",
    "y_pred_val = model_nn_regression.predict(x_val)\n",
    "y_pred_val = np.rint(y_pred_val).astype(int)\n",
    "f1_score(y_val, y_pred_val,average='micro')"
   ]
  },
  {
   "cell_type": "markdown",
   "metadata": {},
   "source": [
    "#### Predict Rating For Test Data"
   ]
  },
  {
   "cell_type": "code",
   "execution_count": 119,
   "metadata": {
    "collapsed": false
   },
   "outputs": [
    {
     "data": {
      "text/plain": [
       "(6203, 1)"
      ]
     },
     "execution_count": 119,
     "metadata": {},
     "output_type": "execute_result"
    }
   ],
   "source": [
    "y_pred = model_nn_regression.predict(x_test)\n",
    "y_pred = np.rint(y_pred).astype(int)\n",
    "y_pred.shape"
   ]
  },
  {
   "cell_type": "code",
   "execution_count": 120,
   "metadata": {
    "collapsed": false
   },
   "outputs": [],
   "source": [
    "pred = ts[[\"reviewID\"]].copy()\n",
    "pred[\"rating\"] = y_pred"
   ]
  },
  {
   "cell_type": "code",
   "execution_count": 121,
   "metadata": {
    "collapsed": false,
    "scrolled": true
   },
   "outputs": [
    {
     "data": {
      "text/html": [
       "<div>\n",
       "<style>\n",
       "    .dataframe thead tr:only-child th {\n",
       "        text-align: right;\n",
       "    }\n",
       "\n",
       "    .dataframe thead th {\n",
       "        text-align: left;\n",
       "    }\n",
       "\n",
       "    .dataframe tbody tr th {\n",
       "        vertical-align: top;\n",
       "    }\n",
       "</style>\n",
       "<table border=\"1\" class=\"dataframe\">\n",
       "  <thead>\n",
       "    <tr style=\"text-align: right;\">\n",
       "      <th></th>\n",
       "      <th>reviewID</th>\n",
       "      <th>rating</th>\n",
       "    </tr>\n",
       "  </thead>\n",
       "  <tbody>\n",
       "    <tr>\n",
       "      <th>0</th>\n",
       "      <td>1</td>\n",
       "      <td>4</td>\n",
       "    </tr>\n",
       "    <tr>\n",
       "      <th>1</th>\n",
       "      <td>2</td>\n",
       "      <td>4</td>\n",
       "    </tr>\n",
       "    <tr>\n",
       "      <th>2</th>\n",
       "      <td>3</td>\n",
       "      <td>3</td>\n",
       "    </tr>\n",
       "    <tr>\n",
       "      <th>3</th>\n",
       "      <td>4</td>\n",
       "      <td>4</td>\n",
       "    </tr>\n",
       "    <tr>\n",
       "      <th>4</th>\n",
       "      <td>5</td>\n",
       "      <td>4</td>\n",
       "    </tr>\n",
       "    <tr>\n",
       "      <th>5</th>\n",
       "      <td>6</td>\n",
       "      <td>4</td>\n",
       "    </tr>\n",
       "    <tr>\n",
       "      <th>6</th>\n",
       "      <td>7</td>\n",
       "      <td>4</td>\n",
       "    </tr>\n",
       "    <tr>\n",
       "      <th>7</th>\n",
       "      <td>8</td>\n",
       "      <td>3</td>\n",
       "    </tr>\n",
       "    <tr>\n",
       "      <th>8</th>\n",
       "      <td>9</td>\n",
       "      <td>4</td>\n",
       "    </tr>\n",
       "    <tr>\n",
       "      <th>9</th>\n",
       "      <td>10</td>\n",
       "      <td>4</td>\n",
       "    </tr>\n",
       "  </tbody>\n",
       "</table>\n",
       "</div>"
      ],
      "text/plain": [
       "   reviewID  rating\n",
       "0         1       4\n",
       "1         2       4\n",
       "2         3       3\n",
       "3         4       4\n",
       "4         5       4\n",
       "5         6       4\n",
       "6         7       4\n",
       "7         8       3\n",
       "8         9       4\n",
       "9        10       4"
      ]
     },
     "execution_count": 121,
     "metadata": {},
     "output_type": "execute_result"
    }
   ],
   "source": [
    "pred.head(10)"
   ]
  },
  {
   "cell_type": "code",
   "execution_count": 122,
   "metadata": {
    "collapsed": true
   },
   "outputs": [],
   "source": [
    "pred.to_csv(\"../data/prediction_nn_regression.csv\", index=False)"
   ]
  },
  {
   "cell_type": "markdown",
   "metadata": {},
   "source": [
    "# Feedforward Nueral Network - Classification"
   ]
  },
  {
   "cell_type": "code",
   "execution_count": 6,
   "metadata": {
    "collapsed": false
   },
   "outputs": [
    {
     "name": "stderr",
     "output_type": "stream",
     "text": [
      "Using TensorFlow backend.\n"
     ]
    }
   ],
   "source": [
    "from keras.models import Model\n",
    "from keras.layers import Input, Dense, Dropout\n",
    "from keras.optimizers import Adam\n",
    "\n",
    "def get_nn_classification():\n",
    "    input1 = Input(shape=(300,))\n",
    "    x = Dense(100, activation='relu')(input1)\n",
    "    x = Dropout(0.5)(x)\n",
    "    x = Dense(10, activation='relu')(x)\n",
    "    x = Dropout(0.1)(x)\n",
    "    out = Dense(5, activation='softmax')(x)\n",
    "    model = Model(inputs=input1, outputs=out)\n",
    "    model.compile(optimizer=Adam(), loss='categorical_crossentropy', metrics=['acc'])\n",
    "    return model"
   ]
  },
  {
   "cell_type": "code",
   "execution_count": 7,
   "metadata": {
    "collapsed": false
   },
   "outputs": [
    {
     "name": "stdout",
     "output_type": "stream",
     "text": [
      "start training\n",
      "train with 20 epochs and 32 batch size\n",
      "Train on 36000 samples, validate on 4000 samples\n",
      "Epoch 1/20\n",
      "36000/36000 [==============================] - 16s - loss: 1.1706 - acc: 0.4891 - val_loss: 1.0278 - val_acc: 0.5357\n",
      "Epoch 2/20\n",
      "36000/36000 [==============================] - 5s - loss: 1.0512 - acc: 0.5265 - val_loss: 1.0026 - val_acc: 0.5455\n",
      "Epoch 3/20\n",
      "36000/36000 [==============================] - 5s - loss: 1.0295 - acc: 0.5331 - val_loss: 0.9989 - val_acc: 0.5490\n",
      "Epoch 4/20\n",
      "36000/36000 [==============================] - 5s - loss: 1.0211 - acc: 0.5365 - val_loss: 1.0004 - val_acc: 0.5397\n",
      "Epoch 5/20\n",
      "36000/36000 [==============================] - 5s - loss: 1.0129 - acc: 0.5391 - val_loss: 0.9962 - val_acc: 0.5505\n",
      "Epoch 6/20\n",
      "36000/36000 [==============================] - 5s - loss: 1.0027 - acc: 0.5421 - val_loss: 0.9942 - val_acc: 0.5513\n",
      "Epoch 7/20\n",
      "36000/36000 [==============================] - 5s - loss: 0.9943 - acc: 0.5491 - val_loss: 0.9951 - val_acc: 0.5490\n",
      "Epoch 8/20\n",
      "36000/36000 [==============================] - 5s - loss: 0.9892 - acc: 0.5490 - val_loss: 0.9949 - val_acc: 0.5453\n",
      "Epoch 9/20\n",
      "36000/36000 [==============================] - 5s - loss: 0.9799 - acc: 0.5524 - val_loss: 0.9952 - val_acc: 0.5427\n",
      "Epoch 10/20\n",
      "36000/36000 [==============================] - 5s - loss: 0.9729 - acc: 0.5543 - val_loss: 0.9956 - val_acc: 0.5495\n",
      "Epoch 11/20\n",
      "36000/36000 [==============================] - 5s - loss: 0.9640 - acc: 0.5573 - val_loss: 0.9996 - val_acc: 0.5480\n",
      "Epoch 12/20\n",
      "36000/36000 [==============================] - 5s - loss: 0.9586 - acc: 0.5619 - val_loss: 0.9979 - val_acc: 0.5485\n",
      "Epoch 13/20\n",
      "36000/36000 [==============================] - 5s - loss: 0.9495 - acc: 0.5666 - val_loss: 0.9990 - val_acc: 0.5465\n",
      "Epoch 14/20\n",
      "36000/36000 [==============================] - 5s - loss: 0.9457 - acc: 0.5649 - val_loss: 1.0036 - val_acc: 0.5463\n",
      "Epoch 15/20\n",
      "36000/36000 [==============================] - 5s - loss: 0.9422 - acc: 0.5688 - val_loss: 1.0034 - val_acc: 0.5483\n",
      "Epoch 16/20\n",
      "36000/36000 [==============================] - 5s - loss: 0.9303 - acc: 0.5751 - val_loss: 1.0054 - val_acc: 0.5415\n",
      "Epoch 17/20\n",
      "36000/36000 [==============================] - 5s - loss: 0.9252 - acc: 0.5745 - val_loss: 1.0049 - val_acc: 0.5390\n",
      "Epoch 18/20\n",
      "36000/36000 [==============================] - 5s - loss: 0.9228 - acc: 0.5770 - val_loss: 1.0104 - val_acc: 0.5395\n",
      "Epoch 19/20\n",
      "36000/36000 [==============================] - 5s - loss: 0.9158 - acc: 0.5824 - val_loss: 1.0097 - val_acc: 0.5430\n",
      "Epoch 20/20\n",
      "36000/36000 [==============================] - 5s - loss: 0.9072 - acc: 0.5840 - val_loss: 1.0086 - val_acc: 0.5440\n"
     ]
    }
   ],
   "source": [
    "from keras import backend as K\n",
    "K.clear_session()\n",
    "\n",
    "print('start training')\n",
    "verbose = 1\n",
    "model_nn_classification = get_nn_classification()\n",
    "\n",
    "train_params = [(20, 32)]\n",
    "for (epochs, batch_size) in train_params:\n",
    "    print(\"train with {} epochs and {} batch size\".format(epochs, batch_size))\n",
    "    model_nn_classification.fit(x_train, y_train_one_hot, epochs=epochs, batch_size=batch_size, verbose=verbose,\n",
    "                           validation_data=(x_val, y_val_one_hot))"
   ]
  },
  {
   "cell_type": "markdown",
   "metadata": {},
   "source": [
    "#### Calculate F1 score on Validation Data"
   ]
  },
  {
   "cell_type": "code",
   "execution_count": 8,
   "metadata": {
    "collapsed": false
   },
   "outputs": [
    {
     "data": {
      "text/plain": [
       "0.54400000000000004"
      ]
     },
     "execution_count": 8,
     "metadata": {},
     "output_type": "execute_result"
    }
   ],
   "source": [
    "from sklearn.metrics import f1_score\n",
    "y_pred_distribution_val = model_nn_classification.predict(x_val)\n",
    "y_pred_val = y_pred_distribution_val.argmax(axis=1)+1\n",
    "f1_score(y_pred_val, y_val,average='micro')"
   ]
  },
  {
   "cell_type": "markdown",
   "metadata": {},
   "source": [
    "#### Predict Rating For Test Data"
   ]
  },
  {
   "cell_type": "code",
   "execution_count": 9,
   "metadata": {
    "collapsed": false
   },
   "outputs": [
    {
     "data": {
      "text/plain": [
       "(6203,)"
      ]
     },
     "execution_count": 9,
     "metadata": {},
     "output_type": "execute_result"
    }
   ],
   "source": [
    "y_pred_distribution = model_nn_classification.predict(x_test)\n",
    "y_pred = y_pred_distribution.argmax(axis=1)+1\n",
    "y_pred.shape"
   ]
  },
  {
   "cell_type": "code",
   "execution_count": 10,
   "metadata": {
    "collapsed": false
   },
   "outputs": [],
   "source": [
    "pred = ts[[\"reviewID\"]].copy()\n",
    "pred[\"rating\"] = y_pred"
   ]
  },
  {
   "cell_type": "code",
   "execution_count": 11,
   "metadata": {
    "collapsed": false
   },
   "outputs": [
    {
     "data": {
      "text/html": [
       "<div>\n",
       "<style>\n",
       "    .dataframe thead tr:only-child th {\n",
       "        text-align: right;\n",
       "    }\n",
       "\n",
       "    .dataframe thead th {\n",
       "        text-align: left;\n",
       "    }\n",
       "\n",
       "    .dataframe tbody tr th {\n",
       "        vertical-align: top;\n",
       "    }\n",
       "</style>\n",
       "<table border=\"1\" class=\"dataframe\">\n",
       "  <thead>\n",
       "    <tr style=\"text-align: right;\">\n",
       "      <th></th>\n",
       "      <th>reviewID</th>\n",
       "      <th>rating</th>\n",
       "    </tr>\n",
       "  </thead>\n",
       "  <tbody>\n",
       "    <tr>\n",
       "      <th>0</th>\n",
       "      <td>1</td>\n",
       "      <td>4</td>\n",
       "    </tr>\n",
       "    <tr>\n",
       "      <th>1</th>\n",
       "      <td>2</td>\n",
       "      <td>4</td>\n",
       "    </tr>\n",
       "    <tr>\n",
       "      <th>2</th>\n",
       "      <td>3</td>\n",
       "      <td>3</td>\n",
       "    </tr>\n",
       "    <tr>\n",
       "      <th>3</th>\n",
       "      <td>4</td>\n",
       "      <td>4</td>\n",
       "    </tr>\n",
       "    <tr>\n",
       "      <th>4</th>\n",
       "      <td>5</td>\n",
       "      <td>3</td>\n",
       "    </tr>\n",
       "    <tr>\n",
       "      <th>5</th>\n",
       "      <td>6</td>\n",
       "      <td>4</td>\n",
       "    </tr>\n",
       "    <tr>\n",
       "      <th>6</th>\n",
       "      <td>7</td>\n",
       "      <td>4</td>\n",
       "    </tr>\n",
       "    <tr>\n",
       "      <th>7</th>\n",
       "      <td>8</td>\n",
       "      <td>3</td>\n",
       "    </tr>\n",
       "    <tr>\n",
       "      <th>8</th>\n",
       "      <td>9</td>\n",
       "      <td>4</td>\n",
       "    </tr>\n",
       "    <tr>\n",
       "      <th>9</th>\n",
       "      <td>10</td>\n",
       "      <td>4</td>\n",
       "    </tr>\n",
       "  </tbody>\n",
       "</table>\n",
       "</div>"
      ],
      "text/plain": [
       "   reviewID  rating\n",
       "0         1       4\n",
       "1         2       4\n",
       "2         3       3\n",
       "3         4       4\n",
       "4         5       3\n",
       "5         6       4\n",
       "6         7       4\n",
       "7         8       3\n",
       "8         9       4\n",
       "9        10       4"
      ]
     },
     "execution_count": 11,
     "metadata": {},
     "output_type": "execute_result"
    }
   ],
   "source": [
    "pred.head(10)"
   ]
  },
  {
   "cell_type": "code",
   "execution_count": 12,
   "metadata": {
    "collapsed": true
   },
   "outputs": [],
   "source": [
    "pred.to_csv(\"../data/prediction_nn_classification.csv\", index=False)"
   ]
  },
  {
   "cell_type": "code",
   "execution_count": null,
   "metadata": {
    "collapsed": true
   },
   "outputs": [],
   "source": []
  }
 ],
 "metadata": {
  "kernelspec": {
   "display_name": "Python 3",
   "language": "python",
   "name": "python3"
  },
  "language_info": {
   "codemirror_mode": {
    "name": "ipython",
    "version": 3
   },
   "file_extension": ".py",
   "mimetype": "text/x-python",
   "name": "python",
   "nbconvert_exporter": "python",
   "pygments_lexer": "ipython3",
   "version": "3.5.2"
  }
 },
 "nbformat": 4,
 "nbformat_minor": 0
}
